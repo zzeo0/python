{
  "nbformat": 4,
  "nbformat_minor": 0,
  "metadata": {
    "colab": {
      "provenance": [],
      "authorship_tag": "ABX9TyMjeogWJUxHcWWF3XAJzAVL",
      "include_colab_link": true
    },
    "kernelspec": {
      "name": "python3",
      "display_name": "Python 3"
    },
    "language_info": {
      "name": "python"
    }
  },
  "cells": [
    {
      "cell_type": "markdown",
      "metadata": {
        "id": "view-in-github",
        "colab_type": "text"
      },
      "source": [
        "<a href=\"https://colab.research.google.com/github/zzeo0/python0/blob/main/py_A.ipynb\" target=\"_parent\"><img src=\"https://colab.research.google.com/assets/colab-badge.svg\" alt=\"Open In Colab\"/></a>"
      ]
    },
    {
      "cell_type": "markdown",
      "source": [
        "#CH1. 파이썬 문법\n",
        "## 자료형\n",
        "**숫자형**\n",
        "\n",
        "\n",
        "* 정수 : 123,456,0,-30\n",
        "* 실수 : 12.345, -987.65, 0.7e\n",
        "* 8진수 : 0o765\n",
        "* 16진수 : 0x0D, 0x0A, 0xFF\n",
        "\n",
        "**변수**\n",
        "* 문자 또는 밑줄(_kim, alpha)\n",
        "* 대소문자 구분(sum, Sum, SUM)\n",
        "* 영문자, 숫자, 밑줄(A-z, 0-9,_)\\\n",
        " ex) sun_9, Alpha, s9n)\n",
        "* 파이썬 키워드 (print...)\n",
        "\n",
        "\n",
        "**표기법**\n",
        "+ 카멜(낙타) : myName\n",
        "+ 스네이크(뱀) : my_name\n",
        "+ 파스칼 : MyName\n",
        "\n"
      ],
      "metadata": {
        "id": "SE-m2XgJhuXL"
      }
    },
    {
      "cell_type": "code",
      "source": [
        "a = 10\n",
        "b = 20\n",
        "f=\"10\"\n",
        "c = a + b\n",
        "print(a,b,c,f)\n"
      ],
      "metadata": {
        "colab": {
          "base_uri": "https://localhost:8080/"
        },
        "id": "TlwK3o5flWDW",
        "outputId": "e9fa6db8-0737-4c46-e83b-51cd1ca9d8d5"
      },
      "execution_count": 12,
      "outputs": [
        {
          "output_type": "stream",
          "name": "stdout",
          "text": [
            "10 20 30 10\n"
          ]
        }
      ]
    },
    {
      "cell_type": "code",
      "source": [],
      "metadata": {
        "id": "NYQqMwW7qaBi"
      },
      "execution_count": null,
      "outputs": []
    },
    {
      "cell_type": "markdown",
      "source": [],
      "metadata": {
        "id": "jAj7MLr_hrp0"
      }
    },
    {
      "cell_type": "code",
      "source": [
        "a=10\n",
        "b=20 #주석\n",
        "c=\"10\"\n",
        "d=\"20\"\n",
        "print(a+b)\n",
        "print(type(a))\n",
        "print(type(c))\n",
        "print(c+d)\n",
        "print(c,d)"
      ],
      "metadata": {
        "colab": {
          "base_uri": "https://localhost:8080/"
        },
        "id": "-a0212ftmCAm",
        "outputId": "c68ac867-7a1e-48ec-e831-a02e67325589"
      },
      "execution_count": 11,
      "outputs": [
        {
          "output_type": "stream",
          "name": "stdout",
          "text": [
            "30\n",
            "<class 'int'>\n",
            "<class 'str'>\n",
            "1020\n",
            "10 20\n"
          ]
        }
      ]
    },
    {
      "cell_type": "code",
      "source": [
        "# 나눗셈 \n",
        "a = 10\n",
        "b = 3\n",
        "c = a / b\n",
        "d = a // b # 몫\n",
        "e = a % b # 나머지\n",
        "print(c,d,e)\n",
        "\n",
        "\n"
      ],
      "metadata": {
        "colab": {
          "base_uri": "https://localhost:8080/"
        },
        "id": "U8PSx_YrmAYc",
        "outputId": "68db579a-ca1d-4fe5-9dd3-0cf24b6e5b1c"
      },
      "execution_count": 13,
      "outputs": [
        {
          "output_type": "stream",
          "name": "stdout",
          "text": [
            "3.3333333333333335 3 1\n"
          ]
        }
      ]
    },
    {
      "cell_type": "code",
      "source": [
        "# 곱셈\n",
        "a = 10\n",
        "b = 3\n",
        "c = a * b # 곱하기\n",
        "d = a ** b # 제곱\n",
        "print(c,d)"
      ],
      "metadata": {
        "colab": {
          "base_uri": "https://localhost:8080/"
        },
        "id": "mUYPdLkHrCdO",
        "outputId": "072ad209-044f-4072-9b80-431749b2bf0f"
      },
      "execution_count": 15,
      "outputs": [
        {
          "output_type": "stream",
          "name": "stdout",
          "text": [
            "30 1000\n"
          ]
        }
      ]
    },
    {
      "cell_type": "markdown",
      "source": [
        "#### 문자열\n",
        "1. 큰따옴표 : \" Suil Do\"\n",
        "2. 작은 따옴표 : 'Suil Do'\n",
        "3. 큰따옴표 3개 : \"\"\"대한민국\"\"\"\n",
        "4. 작은 따옴표 : '''대한민국'''\n",
        "5. \"동해물과 백두산이 마르고 닳도록 Kim\\'s\""
      ],
      "metadata": {
        "id": "-yYFtuImris_"
      }
    },
    {
      "cell_type": "code",
      "source": [
        "# 변수\n",
        "MyName=\"Do Su Il\"\n",
        "my_name=\"도수일\"\n",
        "_my_name=\"korea\"\n",
        "MYNAME=\"코리아\"\n",
        "my2name=\"dododo\"\n",
        "# 2myname=\"숫자먼저\"\n",
        "# my-name =\"마이너스\"\n",
        "# my name=\"스페이스\"\n",
        "myName1=1234\n",
        "myName2=\"1234\"\n",
        "print(type(myName1))\n",
        "print(type(myName2))"
      ],
      "metadata": {
        "colab": {
          "base_uri": "https://localhost:8080/"
        },
        "id": "nVFUffzhtQM9",
        "outputId": "383e8bde-663b-4e8e-f2cf-9044a97f653d"
      },
      "execution_count": 17,
      "outputs": [
        {
          "output_type": "stream",
          "name": "stdout",
          "text": [
            "<class 'int'>\n",
            "<class 'str'>\n"
          ]
        }
      ]
    },
    {
      "cell_type": "markdown",
      "source": [
        "***변수할당***"
      ],
      "metadata": {
        "id": "_7B12sbXuz18"
      }
    },
    {
      "cell_type": "code",
      "source": [
        "a=b=c= \"브라보콘\"\n",
        "print(a)\n",
        "print(b)\n",
        "print(c)"
      ],
      "metadata": {
        "colab": {
          "base_uri": "https://localhost:8080/"
        },
        "id": "Wy44SSe3u4Qr",
        "outputId": "c99cfc10-fdc1-4d59-dbae-42ad3e3f0403"
      },
      "execution_count": 18,
      "outputs": [
        {
          "output_type": "stream",
          "name": "stdout",
          "text": [
            "브라보콘\n",
            "브라보콘\n",
            "브라보콘\n"
          ]
        }
      ]
    },
    {
      "cell_type": "code",
      "source": [
        "x,y,z = \"딸기\",\"포도\",\"바나나\"\n",
        "print(x)\n",
        "print(y)\n",
        "print(z)\n",
        "c,s,c = \"딸기\",\"포도\",\"바나나\"\n",
        "print(c,s,c)"
      ],
      "metadata": {
        "colab": {
          "base_uri": "https://localhost:8080/"
        },
        "id": "B0cNcDNovD4b",
        "outputId": "36bcecbc-6b3d-4515-dda0-ba489cdabde2"
      },
      "execution_count": 24,
      "outputs": [
        {
          "output_type": "stream",
          "name": "stdout",
          "text": [
            "딸기\n",
            "포도\n",
            "바나나\n",
            "바나나 포도 바나나\n"
          ]
        }
      ]
    },
    {
      "cell_type": "code",
      "source": [
        "fruits = [\"누가바\",\"쌍쌍바\",\"보석바\"]\n",
        "x,y,z = fruits\n",
        "print(x)\n",
        "print(y)\n",
        "print(z)\n"
      ],
      "metadata": {
        "colab": {
          "base_uri": "https://localhost:8080/"
        },
        "id": "27nzfXmTv9JV",
        "outputId": "ff11a412-8d31-47bb-ad52-ececa3096e61"
      },
      "execution_count": 27,
      "outputs": [
        {
          "output_type": "stream",
          "name": "stdout",
          "text": [
            "누가바\n",
            "쌍쌍바\n",
            "보석바\n"
          ]
        }
      ]
    },
    {
      "cell_type": "code",
      "source": [
        "x = \"Life\"\n",
        "y = \"is\"\n",
        "z = \"beautiful!\"\n",
        "print(x,y,z)\n",
        "print(x+y+z)"
      ],
      "metadata": {
        "colab": {
          "base_uri": "https://localhost:8080/"
        },
        "id": "_yRZzNuywfXD",
        "outputId": "eb02d5fb-59e4-45c9-f789-2499b39f392a"
      },
      "execution_count": 30,
      "outputs": [
        {
          "output_type": "stream",
          "name": "stdout",
          "text": [
            "Life is beautiful!\n",
            "Lifeisbeautiful!\n"
          ]
        }
      ]
    },
    {
      "cell_type": "code",
      "source": [
        "a=1\n",
        "b=2\n",
        "c=3\n",
        "print(a+b+c)\n",
        "print(a,b,c)"
      ],
      "metadata": {
        "colab": {
          "base_uri": "https://localhost:8080/"
        },
        "id": "rTX9NA7wxEqt",
        "outputId": "26bc5f7b-fe7e-4740-fecd-9e7b8938f923"
      },
      "execution_count": 32,
      "outputs": [
        {
          "output_type": "stream",
          "name": "stdout",
          "text": [
            "6\n",
            "1 2 3\n"
          ]
        }
      ]
    },
    {
      "cell_type": "code",
      "source": [
        "a='1'\n",
        "b='2'\n",
        "c='3'\n",
        "print(a+b+c)\n",
        "print(a,b,c)"
      ],
      "metadata": {
        "colab": {
          "base_uri": "https://localhost:8080/"
        },
        "id": "xd_o9hndxlDO",
        "outputId": "7cd27dc6-ffaa-4ba7-a1b4-879393a06725"
      },
      "execution_count": 33,
      "outputs": [
        {
          "output_type": "stream",
          "name": "stdout",
          "text": [
            "123\n",
            "1 2 3\n"
          ]
        }
      ]
    },
    {
      "cell_type": "markdown",
      "source": [
        "데이터 바꾸기"
      ],
      "metadata": {
        "id": "cJAnAxOd77Er"
      }
    },
    {
      "cell_type": "code",
      "source": [
        "a = 1; b = 2\n",
        "a,b = b,a\n",
        "print(a,b)"
      ],
      "metadata": {
        "colab": {
          "base_uri": "https://localhost:8080/"
        },
        "id": "hqHPsAGb7943",
        "outputId": "ce2fc322-d32d-42d4-fa20-a29d4fa1c4d1"
      },
      "execution_count": 50,
      "outputs": [
        {
          "output_type": "stream",
          "name": "stdout",
          "text": [
            "2 1\n"
          ]
        }
      ]
    },
    {
      "cell_type": "code",
      "source": [
        "b = 2; c = 3\n",
        "# c = (b=b+c) # error\n"
      ],
      "metadata": {
        "id": "dgUU97QJ8aaM"
      },
      "execution_count": 47,
      "outputs": []
    },
    {
      "cell_type": "code",
      "source": [
        "a=1;b=2;c=3\n",
        "f = a + b + \\\n",
        "c\n",
        "print(f)"
      ],
      "metadata": {
        "colab": {
          "base_uri": "https://localhost:8080/"
        },
        "id": "E3-DwGI58nBA",
        "outputId": "6b933519-ccda-4c28-dfc0-7186264b96b0"
      },
      "execution_count": 38,
      "outputs": [
        {
          "output_type": "stream",
          "name": "stdout",
          "text": [
            "6\n"
          ]
        }
      ]
    },
    {
      "cell_type": "code",
      "source": [
        "# len()\n",
        "\n",
        "a=\"123456\"\n",
        "b=[2,3,4,5]\n",
        "print(len(a))\n",
        "print(len(b))"
      ],
      "metadata": {
        "colab": {
          "base_uri": "https://localhost:8080/"
        },
        "id": "2rOdkKvD89eC",
        "outputId": "0ff0f798-0b93-41cf-c7ba-29ee3e5a5201"
      },
      "execution_count": 41,
      "outputs": [
        {
          "output_type": "stream",
          "name": "stdout",
          "text": [
            "6\n",
            "4\n"
          ]
        }
      ]
    },
    {
      "cell_type": "markdown",
      "source": [
        "#### 계산기"
      ],
      "metadata": {
        "id": "rEk-5sPI9WaI"
      }
    },
    {
      "cell_type": "code",
      "source": [
        "a = 100\n",
        "b = 200\n",
        "result = a+b\n",
        "print(a,'+',b,'=',result)\n",
        "result = a-b\n",
        "print(a,'-',b,'=',result)\n",
        "result = a/b\n",
        "print(a,'/',b,'=',result)\n",
        "result = a*b\n",
        "print(a,'*',b,'=',result)\n"
      ],
      "metadata": {
        "colab": {
          "base_uri": "https://localhost:8080/"
        },
        "id": "sHjzJwGJ9Z-Y",
        "outputId": "b022ad5a-3abf-4272-e2b1-eef6e97471ef"
      },
      "execution_count": 45,
      "outputs": [
        {
          "output_type": "stream",
          "name": "stdout",
          "text": [
            "100 + 200 = 300\n",
            "100 - 200 = -100\n",
            "100 / 200 = 0.5\n",
            "100 * 200 = 20000\n"
          ]
        }
      ]
    },
    {
      "cell_type": "code",
      "source": [
        "a=\"1234\"\n",
        "b=5678\n",
        "c=int(a)+ b\n",
        "print(c)"
      ],
      "metadata": {
        "colab": {
          "base_uri": "https://localhost:8080/"
        },
        "id": "WYbECUoDAo-6",
        "outputId": "2acf43ba-49fd-4262-b820-1f58d9b0b11d"
      },
      "execution_count": 54,
      "outputs": [
        {
          "output_type": "stream",
          "name": "stdout",
          "text": [
            "6912\n"
          ]
        }
      ]
    },
    {
      "cell_type": "code",
      "source": [
        "# 계산기 2\n",
        "num1 = int(input(\"숫자입력1: \"))\n",
        "num2 = int(input(\"숫자입력2: \"))\n",
        "\n",
        "result1 = num1 + num2\n",
        "result2 = num1 - num2\n",
        "result3 = num1 / num2\n",
        "result4 = num1 * num2\n",
        "print(num1,'+',num2,'=',result1)\n",
        "print(num1,'-',num2,'=',result2)\n",
        "print(num1,'/',num2,'=',result3)\n",
        "print(num1,'*',num2,'=',result4)"
      ],
      "metadata": {
        "colab": {
          "base_uri": "https://localhost:8080/"
        },
        "id": "1u7b5eqgBABk",
        "outputId": "d5f84d56-8dc7-4cb3-9610-16773654ec32"
      },
      "execution_count": 20,
      "outputs": [
        {
          "output_type": "stream",
          "name": "stdout",
          "text": [
            "숫자입력1: 1\n",
            "숫자입력2: 2\n",
            "1 + 2 = 3\n",
            "1 - 2 = -1\n",
            "1 / 2 = 0.5\n",
            "1 * 2 = 2\n"
          ]
        }
      ]
    },
    {
      "cell_type": "code",
      "source": [
        "#자기이름,전화번호,택배(g)X100\n",
        "\n",
        "n1=input(\"이름: \")\n",
        "n2=input(\"전화번호: \")\n",
        "n3=int(input(\"택배(g)x100 : \"))\n",
        "n4= n3*100\n",
        "\n",
        "print(\"이름은 \"+(n1)+\"입니다.\")\n",
        "print(\"전화번호는\"+(n2)+ \"입니다.\")\n",
        "print(\"택배\"+str(n3)+\"(g)x100은 \"+str(n4)+\" 입니다.\")\n"
      ],
      "metadata": {
        "colab": {
          "base_uri": "https://localhost:8080/"
        },
        "id": "ggdaibbFDz26",
        "outputId": "89ca870e-e677-4fc6-8a1b-4817b04a41ef"
      },
      "execution_count": 19,
      "outputs": [
        {
          "output_type": "stream",
          "name": "stdout",
          "text": [
            "이름: 도수일\n",
            "전화번호: 010 1234 5678\n",
            "택배(g)x100 : 3\n",
            "이름은 도수일입니다.\n",
            "전화번호는010 1234 5678입니다.\n",
            "택배3(g)x100은 300 입니다.\n"
          ]
        }
      ]
    }
  ]
}