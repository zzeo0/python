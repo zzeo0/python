{
  "nbformat": 4,
  "nbformat_minor": 0,
  "metadata": {
    "colab": {
      "provenance": [],
      "authorship_tag": "ABX9TyPVd5mGrJ3FL58thYpfoyQl",
      "include_colab_link": true
    },
    "kernelspec": {
      "name": "python3",
      "display_name": "Python 3"
    },
    "language_info": {
      "name": "python"
    }
  },
  "cells": [
    {
      "cell_type": "markdown",
      "metadata": {
        "id": "view-in-github",
        "colab_type": "text"
      },
      "source": [
        "<a href=\"https://colab.research.google.com/github/zzeo0/python/blob/main/py_A.ipynb\" target=\"_parent\"><img src=\"https://colab.research.google.com/assets/colab-badge.svg\" alt=\"Open In Colab\"/></a>"
      ]
    },
    {
      "cell_type": "markdown",
      "source": [
        "#CH1. 파이썬 문법\n",
        "## 자료형\n",
        "**숫자형**\n",
        "\n",
        "\n",
        "* 정수 : 123,456,0,-30\n",
        "* 실수 : 12.345, -987.65, 0.7e\n",
        "* 8진수 : 0o765\n",
        "* 16진수 : 0x0D, 0x0A, 0xFF\n",
        "\n",
        "**변수**\n",
        "* 문자 또는 밑줄(_kim, alpha)\n",
        "* 대소문자 구분(sum, Sum, SUM)\n",
        "* 영문자, 숫자, 밑줄(A-z, 0-9,_)\\\n",
        " ex) sun_9, Alpha, s9n)\n",
        "* 파이썬 키워드 (print...)\n",
        "\n",
        "\n",
        "**표기법**\n",
        "+ 카멜(낙타) : myName\n",
        "+ 스네이크(뱀) : my_name\n",
        "+ 파스칼 : MyName\n",
        "\n"
      ],
      "metadata": {
        "id": "SE-m2XgJhuXL"
      }
    },
    {
      "cell_type": "code",
      "source": [
        "a = 10\n",
        "b = 20\n",
        "f=\"10\"\n",
        "c = a + b\n",
        "print(a,b,c,f)\n"
      ],
      "metadata": {
        "colab": {
          "base_uri": "https://localhost:8080/"
        },
        "id": "TlwK3o5flWDW",
        "outputId": "e9fa6db8-0737-4c46-e83b-51cd1ca9d8d5"
      },
      "execution_count": null,
      "outputs": [
        {
          "output_type": "stream",
          "name": "stdout",
          "text": [
            "10 20 30 10\n"
          ]
        }
      ]
    },
    {
      "cell_type": "code",
      "source": [],
      "metadata": {
        "id": "NYQqMwW7qaBi"
      },
      "execution_count": null,
      "outputs": []
    },
    {
      "cell_type": "markdown",
      "source": [],
      "metadata": {
        "id": "jAj7MLr_hrp0"
      }
    },
    {
      "cell_type": "code",
      "source": [
        "a=10\n",
        "b=20 #주석\n",
        "c=\"10\"\n",
        "d=\"20\"\n",
        "print(a+b)\n",
        "print(type(a))\n",
        "print(type(c))\n",
        "print(c+d)\n",
        "print(c,d)"
      ],
      "metadata": {
        "colab": {
          "base_uri": "https://localhost:8080/"
        },
        "id": "-a0212ftmCAm",
        "outputId": "c68ac867-7a1e-48ec-e831-a02e67325589"
      },
      "execution_count": null,
      "outputs": [
        {
          "output_type": "stream",
          "name": "stdout",
          "text": [
            "30\n",
            "<class 'int'>\n",
            "<class 'str'>\n",
            "1020\n",
            "10 20\n"
          ]
        }
      ]
    },
    {
      "cell_type": "code",
      "source": [
        "# 나눗셈 \n",
        "a = 10\n",
        "b = 3\n",
        "c = a / b\n",
        "d = a // b # 몫\n",
        "e = a % b # 나머지\n",
        "print(c,d,e)\n",
        "\n",
        "\n"
      ],
      "metadata": {
        "colab": {
          "base_uri": "https://localhost:8080/"
        },
        "id": "U8PSx_YrmAYc",
        "outputId": "68db579a-ca1d-4fe5-9dd3-0cf24b6e5b1c"
      },
      "execution_count": null,
      "outputs": [
        {
          "output_type": "stream",
          "name": "stdout",
          "text": [
            "3.3333333333333335 3 1\n"
          ]
        }
      ]
    },
    {
      "cell_type": "code",
      "source": [
        "# 곱셈\n",
        "a = 10\n",
        "b = 3\n",
        "c = a * b # 곱하기\n",
        "d = a ** b # 제곱\n",
        "print(c,d)"
      ],
      "metadata": {
        "colab": {
          "base_uri": "https://localhost:8080/"
        },
        "id": "mUYPdLkHrCdO",
        "outputId": "072ad209-044f-4072-9b80-431749b2bf0f"
      },
      "execution_count": null,
      "outputs": [
        {
          "output_type": "stream",
          "name": "stdout",
          "text": [
            "30 1000\n"
          ]
        }
      ]
    },
    {
      "cell_type": "markdown",
      "source": [
        "#### 문자열\n",
        "1. 큰따옴표 : \" Suil Do\"\n",
        "2. 작은 따옴표 : 'Suil Do'\n",
        "3. 큰따옴표 3개 : \"\"\"대한민국\"\"\"\n",
        "4. 작은 따옴표 : '''대한민국'''\n",
        "5. \"동해물과 백두산이 마르고 닳도록 Kim\\'s\""
      ],
      "metadata": {
        "id": "-yYFtuImris_"
      }
    },
    {
      "cell_type": "code",
      "source": [
        "# 변수\n",
        "MyName=\"Do Su Il\"\n",
        "my_name=\"도수일\"\n",
        "_my_name=\"korea\"\n",
        "MYNAME=\"코리아\"\n",
        "my2name=\"dododo\"\n",
        "# 2myname=\"숫자먼저\"\n",
        "# my-name =\"마이너스\"\n",
        "# my name=\"스페이스\"\n",
        "myName1=1234\n",
        "myName2=\"1234\"\n",
        "print(type(myName1))\n",
        "print(type(myName2))"
      ],
      "metadata": {
        "colab": {
          "base_uri": "https://localhost:8080/"
        },
        "id": "nVFUffzhtQM9",
        "outputId": "383e8bde-663b-4e8e-f2cf-9044a97f653d"
      },
      "execution_count": null,
      "outputs": [
        {
          "output_type": "stream",
          "name": "stdout",
          "text": [
            "<class 'int'>\n",
            "<class 'str'>\n"
          ]
        }
      ]
    },
    {
      "cell_type": "markdown",
      "source": [
        "***변수할당***"
      ],
      "metadata": {
        "id": "_7B12sbXuz18"
      }
    },
    {
      "cell_type": "code",
      "source": [
        "a=b=c= \"브라보콘\"\n",
        "print(a)\n",
        "print(b)\n",
        "print(c)"
      ],
      "metadata": {
        "colab": {
          "base_uri": "https://localhost:8080/"
        },
        "id": "Wy44SSe3u4Qr",
        "outputId": "c99cfc10-fdc1-4d59-dbae-42ad3e3f0403"
      },
      "execution_count": null,
      "outputs": [
        {
          "output_type": "stream",
          "name": "stdout",
          "text": [
            "브라보콘\n",
            "브라보콘\n",
            "브라보콘\n"
          ]
        }
      ]
    },
    {
      "cell_type": "code",
      "source": [
        "x,y,z = \"딸기\",\"포도\",\"바나나\"\n",
        "print(x)\n",
        "print(y)\n",
        "print(z)\n",
        "c,s,c = \"딸기\",\"포도\",\"바나나\"\n",
        "print(c,s,c)"
      ],
      "metadata": {
        "colab": {
          "base_uri": "https://localhost:8080/"
        },
        "id": "B0cNcDNovD4b",
        "outputId": "36bcecbc-6b3d-4515-dda0-ba489cdabde2"
      },
      "execution_count": null,
      "outputs": [
        {
          "output_type": "stream",
          "name": "stdout",
          "text": [
            "딸기\n",
            "포도\n",
            "바나나\n",
            "바나나 포도 바나나\n"
          ]
        }
      ]
    },
    {
      "cell_type": "code",
      "source": [
        "fruits = [\"누가바\",\"쌍쌍바\",\"보석바\"]\n",
        "x,y,z = fruits\n",
        "print(x)\n",
        "print(y)\n",
        "print(z)\n"
      ],
      "metadata": {
        "colab": {
          "base_uri": "https://localhost:8080/"
        },
        "id": "27nzfXmTv9JV",
        "outputId": "ff11a412-8d31-47bb-ad52-ececa3096e61"
      },
      "execution_count": null,
      "outputs": [
        {
          "output_type": "stream",
          "name": "stdout",
          "text": [
            "누가바\n",
            "쌍쌍바\n",
            "보석바\n"
          ]
        }
      ]
    },
    {
      "cell_type": "code",
      "source": [
        "x = \"Life\"\n",
        "y = \"is\"\n",
        "z = \"beautiful!\"\n",
        "print(x,y,z)\n",
        "print(x+y+z)"
      ],
      "metadata": {
        "colab": {
          "base_uri": "https://localhost:8080/"
        },
        "id": "_yRZzNuywfXD",
        "outputId": "eb02d5fb-59e4-45c9-f789-2499b39f392a"
      },
      "execution_count": null,
      "outputs": [
        {
          "output_type": "stream",
          "name": "stdout",
          "text": [
            "Life is beautiful!\n",
            "Lifeisbeautiful!\n"
          ]
        }
      ]
    },
    {
      "cell_type": "code",
      "source": [
        "a=1\n",
        "b=2\n",
        "c=3\n",
        "print(a+b+c)\n",
        "print(a,b,c)"
      ],
      "metadata": {
        "colab": {
          "base_uri": "https://localhost:8080/"
        },
        "id": "rTX9NA7wxEqt",
        "outputId": "26bc5f7b-fe7e-4740-fecd-9e7b8938f923"
      },
      "execution_count": null,
      "outputs": [
        {
          "output_type": "stream",
          "name": "stdout",
          "text": [
            "6\n",
            "1 2 3\n"
          ]
        }
      ]
    },
    {
      "cell_type": "code",
      "source": [
        "a='1'\n",
        "b='2'\n",
        "c='3'\n",
        "print(a+b+c)\n",
        "print(a,b,c)"
      ],
      "metadata": {
        "colab": {
          "base_uri": "https://localhost:8080/"
        },
        "id": "xd_o9hndxlDO",
        "outputId": "7cd27dc6-ffaa-4ba7-a1b4-879393a06725"
      },
      "execution_count": null,
      "outputs": [
        {
          "output_type": "stream",
          "name": "stdout",
          "text": [
            "123\n",
            "1 2 3\n"
          ]
        }
      ]
    },
    {
      "cell_type": "markdown",
      "source": [
        "데이터 바꾸기"
      ],
      "metadata": {
        "id": "cJAnAxOd77Er"
      }
    },
    {
      "cell_type": "code",
      "source": [
        "a = 1; b = 2\n",
        "a,b = b,a\n",
        "print(a,b)"
      ],
      "metadata": {
        "colab": {
          "base_uri": "https://localhost:8080/"
        },
        "id": "hqHPsAGb7943",
        "outputId": "ce2fc322-d32d-42d4-fa20-a29d4fa1c4d1"
      },
      "execution_count": null,
      "outputs": [
        {
          "output_type": "stream",
          "name": "stdout",
          "text": [
            "2 1\n"
          ]
        }
      ]
    },
    {
      "cell_type": "code",
      "source": [
        "b = 2; c = 3\n",
        "# c = (b=b+c) # error\n"
      ],
      "metadata": {
        "id": "dgUU97QJ8aaM"
      },
      "execution_count": null,
      "outputs": []
    },
    {
      "cell_type": "code",
      "source": [
        "a=1;b=2;c=3\n",
        "f = a + b + \\\n",
        "c\n",
        "print(f)"
      ],
      "metadata": {
        "colab": {
          "base_uri": "https://localhost:8080/"
        },
        "id": "E3-DwGI58nBA",
        "outputId": "6b933519-ccda-4c28-dfc0-7186264b96b0"
      },
      "execution_count": null,
      "outputs": [
        {
          "output_type": "stream",
          "name": "stdout",
          "text": [
            "6\n"
          ]
        }
      ]
    },
    {
      "cell_type": "code",
      "source": [
        "# len()\n",
        "\n",
        "a=\"123456\"\n",
        "b=[2,3,4,5]\n",
        "print(len(a))\n",
        "print(len(b))"
      ],
      "metadata": {
        "colab": {
          "base_uri": "https://localhost:8080/"
        },
        "id": "2rOdkKvD89eC",
        "outputId": "0ff0f798-0b93-41cf-c7ba-29ee3e5a5201"
      },
      "execution_count": null,
      "outputs": [
        {
          "output_type": "stream",
          "name": "stdout",
          "text": [
            "6\n",
            "4\n"
          ]
        }
      ]
    },
    {
      "cell_type": "markdown",
      "source": [
        "#### 계산기"
      ],
      "metadata": {
        "id": "rEk-5sPI9WaI"
      }
    },
    {
      "cell_type": "code",
      "source": [
        "a = 100\n",
        "b = 200\n",
        "result = a+b\n",
        "print(a,'+',b,'=',result)\n",
        "result = a-b\n",
        "print(a,'-',b,'=',result)\n",
        "result = a/b\n",
        "print(a,'/',b,'=',result)\n",
        "result = a*b\n",
        "print(a,'*',b,'=',result)\n"
      ],
      "metadata": {
        "colab": {
          "base_uri": "https://localhost:8080/"
        },
        "id": "sHjzJwGJ9Z-Y",
        "outputId": "b022ad5a-3abf-4272-e2b1-eef6e97471ef"
      },
      "execution_count": null,
      "outputs": [
        {
          "output_type": "stream",
          "name": "stdout",
          "text": [
            "100 + 200 = 300\n",
            "100 - 200 = -100\n",
            "100 / 200 = 0.5\n",
            "100 * 200 = 20000\n"
          ]
        }
      ]
    },
    {
      "cell_type": "code",
      "source": [
        "a=\"1234\"\n",
        "b=5678\n",
        "c=int(a)+ b\n",
        "print(c)"
      ],
      "metadata": {
        "colab": {
          "base_uri": "https://localhost:8080/"
        },
        "id": "WYbECUoDAo-6",
        "outputId": "2acf43ba-49fd-4262-b820-1f58d9b0b11d"
      },
      "execution_count": null,
      "outputs": [
        {
          "output_type": "stream",
          "name": "stdout",
          "text": [
            "6912\n"
          ]
        }
      ]
    },
    {
      "cell_type": "code",
      "source": [
        "# 계산기 2\n",
        "num1 = int(input(\"숫자입력1: \"))\n",
        "num2 = int(input(\"숫자입력2: \"))\n",
        "\n",
        "result1 = num1 + num2\n",
        "result2 = num1 - num2\n",
        "result3 = num1 / num2\n",
        "result4 = num1 * num2\n",
        "print(num1,'+',num2,'=',result1)\n",
        "print(num1,'-',num2,'=',result2)\n",
        "print(num1,'/',num2,'=',result3)\n",
        "print(num1,'*',num2,'=',result4)"
      ],
      "metadata": {
        "colab": {
          "base_uri": "https://localhost:8080/"
        },
        "id": "1u7b5eqgBABk",
        "outputId": "d5f84d56-8dc7-4cb3-9610-16773654ec32"
      },
      "execution_count": null,
      "outputs": [
        {
          "output_type": "stream",
          "name": "stdout",
          "text": [
            "숫자입력1: 1\n",
            "숫자입력2: 2\n",
            "1 + 2 = 3\n",
            "1 - 2 = -1\n",
            "1 / 2 = 0.5\n",
            "1 * 2 = 2\n"
          ]
        }
      ]
    },
    {
      "cell_type": "code",
      "source": [
        "#자기이름,전화번호,택배(g)X100\n",
        "\n",
        "n1=input(\"이름: \")\n",
        "n2=input(\"전화번호: \")\n",
        "n3=int(input(\"택배(g)x100 : \"))\n",
        "n4= n3*100\n",
        "\n",
        "print(\"이름은 \"+(n1)+\"입니다.\")\n",
        "print(\"전화번호는\"+(n2)+ \"입니다.\")\n",
        "print(\"택배\"+str(n3)+\"(g)x100은 \"+str(n4)+\" 입니다.\")"
      ],
      "metadata": {
        "colab": {
          "base_uri": "https://localhost:8080/"
        },
        "id": "ggdaibbFDz26",
        "outputId": "2dbd5fe3-9225-496d-d6a4-7709c02681d7"
      },
      "execution_count": null,
      "outputs": [
        {
          "output_type": "stream",
          "name": "stdout",
          "text": [
            "이름: 도수일\n",
            "전화번호: 010 1234 5678\n",
            "택배(g)x100 : 3\n",
            "이름은 도수일입니다.\n",
            "전화번호는010 1234 5678입니다.\n",
            "택배3(g)x100은 300 입니다.\n"
          ]
        }
      ]
    },
    {
      "cell_type": "markdown",
      "source": [
        "#CH2. 서식 출력 \n"
      ],
      "metadata": {
        "id": "XlhZyC7PicpH"
      }
    },
    {
      "cell_type": "code",
      "source": [
        "print(\"%d\"%123)\n",
        "print(\"%5d\"%123)\n",
        "print(\"%05d\"%123)\n",
        "\n",
        "print(\"%f\" %123.45)\n",
        "print(\"%7.1f\"%123.45)\n",
        "print(\"%7.3f\"%123.45)\n",
        "\n",
        "print(\"%c\"%\"1\")\n",
        "print(\"%s\"%\"가나다라\")\n",
        "print(\"%6s\"%\"가나다라\")\n",
        "print(\"%6s\"%\"abcd\")\n",
        "\n"
      ],
      "metadata": {
        "colab": {
          "base_uri": "https://localhost:8080/"
        },
        "id": "DpYfE4Rzioui",
        "outputId": "92b2651c-3d44-4c83-af2d-5cbfbd3e818d"
      },
      "execution_count": 9,
      "outputs": [
        {
          "output_type": "stream",
          "name": "stdout",
          "text": [
            "123\n",
            "  123\n",
            "00123\n",
            "123.450000\n",
            "  123.5\n",
            "123.450\n",
            "1\n",
            "가나다라\n",
            "  가나다라\n",
            "  abcd\n"
          ]
        }
      ]
    },
    {
      "cell_type": "markdown",
      "source": [
        "### 순서 지정 기능 : format"
      ],
      "metadata": {
        "id": "AGLIKWUMkNIG"
      }
    },
    {
      "cell_type": "code",
      "source": [
        "print(\"{0:d}{1:5d} {2:05d}\".format(123,456,789))"
      ],
      "metadata": {
        "colab": {
          "base_uri": "https://localhost:8080/"
        },
        "id": "vn-nng_kkWY5",
        "outputId": "6631bf6b-a64d-4f6b-9282-a0b871fd3adf"
      },
      "execution_count": 12,
      "outputs": [
        {
          "output_type": "stream",
          "name": "stdout",
          "text": [
            "123  456 00789\n"
          ]
        }
      ]
    },
    {
      "cell_type": "code",
      "source": [
        "print(\"{2:d}{1:5d} {0:05d}\".format(123,456,789))"
      ],
      "metadata": {
        "colab": {
          "base_uri": "https://localhost:8080/"
        },
        "id": "Uf68iZ1ckx7N",
        "outputId": "9f39f153-a44c-47ee-8af3-5d747524eb01"
      },
      "execution_count": 13,
      "outputs": [
        {
          "output_type": "stream",
          "name": "stdout",
          "text": [
            "789  456 00123\n"
          ]
        }
      ]
    },
    {
      "cell_type": "markdown",
      "source": [
        "#### 서식 출력"
      ],
      "metadata": {
        "id": "oUn7i1u-k7Hh"
      }
    },
    {
      "cell_type": "code",
      "source": [
        "print(\"\\n줄 바꿈 명령 \\n연습 입니다.\")"
      ],
      "metadata": {
        "colab": {
          "base_uri": "https://localhost:8080/"
        },
        "id": "SFp1ZvKVk__p",
        "outputId": "fe904c81-ce00-41c8-c000-cde5fdafd9b3"
      },
      "execution_count": 14,
      "outputs": [
        {
          "output_type": "stream",
          "name": "stdout",
          "text": [
            "\n",
            "줄 바꿈 명령 \n",
            "연습 입니다.\n"
          ]
        }
      ]
    },
    {
      "cell_type": "code",
      "source": [
        "print(\"\\t탭키 명령 \\t연습입니다.\")"
      ],
      "metadata": {
        "colab": {
          "base_uri": "https://localhost:8080/"
        },
        "id": "O7derL_GlKzK",
        "outputId": "3265b120-7c49-4788-c8b0-e7586410df80"
      },
      "execution_count": 15,
      "outputs": [
        {
          "output_type": "stream",
          "name": "stdout",
          "text": [
            "\t탭키 명령 \t연습입니다.\n"
          ]
        }
      ]
    },
    {
      "cell_type": "code",
      "source": [
        "print(\"따옴표 글자가 \\\"강조\\\"되는 효과1\")\n",
        "print(\"따음표 글자가 \\'강조\\'되는 효과2\")\n",
        "print(\"역슬레시 3개를 출력하려면 \\\\\\\\\\\\ 6개\")\n",
        "print(r\"\\n \\t \\\" \\\\ \\' @를 그대로 출력\")"
      ],
      "metadata": {
        "colab": {
          "base_uri": "https://localhost:8080/"
        },
        "id": "LcuGGWb9lagd",
        "outputId": "cbf4313c-4aa3-4e28-e8c8-b2cfeb2f95db"
      },
      "execution_count": 18,
      "outputs": [
        {
          "output_type": "stream",
          "name": "stdout",
          "text": [
            "따옴표 글자가 \"강조\"되는 효과1\n",
            "따음표 글자가 '강조'되는 효과2\n",
            "역슬레시 3개를 출력하려면 \\\\\\ 6개\n",
            "\\n \\t \\\" \\\\ \\' @를 그대로 출력\n"
          ]
        }
      ]
    },
    {
      "cell_type": "markdown",
      "source": [
        "#### 관계 연산자자"
      ],
      "metadata": {
        "id": "YYrirXrfuftt"
      }
    },
    {
      "cell_type": "code",
      "source": [
        "a,b=10,20\n",
        "print(a==b,a!=b,a>=b,a<=b,a>b,a<b)"
      ],
      "metadata": {
        "colab": {
          "base_uri": "https://localhost:8080/"
        },
        "id": "KHV3NkSKukTW",
        "outputId": "0aff15bf-9e7d-440b-ccba-0081f35ec992"
      },
      "execution_count": 19,
      "outputs": [
        {
          "output_type": "stream",
          "name": "stdout",
          "text": [
            "False True False True False True\n"
          ]
        }
      ]
    },
    {
      "cell_type": "code",
      "source": [
        "#### 논논리 연산자 and,or,not"
      ],
      "metadata": {
        "id": "R83jw7GuvA5q"
      },
      "execution_count": null,
      "outputs": []
    },
    {
      "cell_type": "code",
      "source": [
        "a=95\n",
        "print((a>100) and (a<200)) #100<a<200\n",
        "print((a<100)or(a>200))    #a<100,a>200\n",
        "print(not(a==100)) # a<=99,a>=101"
      ],
      "metadata": {
        "colab": {
          "base_uri": "https://localhost:8080/"
        },
        "id": "EMgGiFFbvFAd",
        "outputId": "3c68aae8-befb-41b1-8d98-dd24343e32b7"
      },
      "execution_count": 25,
      "outputs": [
        {
          "output_type": "stream",
          "name": "stdout",
          "text": [
            "False\n",
            "True\n",
            "True\n"
          ]
        }
      ]
    },
    {
      "cell_type": "code",
      "source": [
        "if(10):\n",
        "    print(\"참이면 실행되어 보임\")\n",
        "if(0):\n",
        "    print(\"거짓이면 안보임\")"
      ],
      "metadata": {
        "colab": {
          "base_uri": "https://localhost:8080/"
        },
        "id": "nbsBmoTiwbeb",
        "outputId": "dc1a64cf-f530-4fd6-a80b-ab53baa1ffc0"
      },
      "execution_count": 31,
      "outputs": [
        {
          "output_type": "stream",
          "name": "stdout",
          "text": [
            "참이면 실행되어 보임\n"
          ]
        }
      ]
    },
    {
      "cell_type": "markdown",
      "source": [
        "### 퀴즈2 //몫 % 나머지 int(input(\"입력\")) \n",
        "지폐 금액입력 후 동전으로 교환시 (500원,100원,50원,10원)\n",
        "money,c500,c100,c50,c10\n",
        "\n",
        "500원 : ?개\n",
        "100원 : ?개\n",
        "50원 : ?개\n",
        "10원 : ?개"
      ],
      "metadata": {
        "id": "ueWg3jGyxAnv"
      }
    },
    {
      "cell_type": "code",
      "source": [
        "money=int(input(\"지폐 금액을 입력하세요.\")) ##직접 만든 문제\n",
        "c500=money//500\n",
        "c100=money//100\n",
        "c50=money//50\n",
        "c10=money//10\n",
        "a=money%500\n",
        "b=money%100\n",
        "c=money%50\n",
        "d=money%10\n",
        "\n",
        "print(\"500원 :{}개\\n100원 :{}개\\n50원 :{}개\\n10원 :{}개 \".format(c500,c100,c50,c10,))\n",
        "print(\"500원 나머지 :{}개\\n100원 나머지 :{}개\\n 50원 나머지 :{}개\\n 10원 나머지 :{}개\".format(a,b,c,d))"
      ],
      "metadata": {
        "colab": {
          "base_uri": "https://localhost:8080/"
        },
        "id": "Gjz3J7zIxKwm",
        "outputId": "c19bb09f-b33f-4d3a-cefb-f45c9973fdc2"
      },
      "execution_count": 70,
      "outputs": [
        {
          "output_type": "stream",
          "name": "stdout",
          "text": [
            "지폐 금액을 입력하세요.3029\n",
            "500원 :6개\n",
            "100원 :30개\n",
            "50원 :60개\n",
            "10원 :302개 \n",
            "500원 나머지 :29개\n",
            "100원 나머지 :29개\n",
            " 50원 나머지 :29개\n",
            " 10원 나머지 :9개\n"
          ]
        }
      ]
    },
    {
      "cell_type": "code",
      "source": [
        "money,c500,c100,c50,c10=0,0,0,0,0 ## 함께 만든 문제\n",
        "money=int(input(\"동전으로 교환할 돈은? :\"))\n",
        "temp=money\n",
        "c500 =money//500 #몫\n",
        "money %= money % 500 #money %500\n",
        "c100= money//100\n",
        "money %=100\n",
        "c10=money//10\n",
        "money %=10 #1~9\n",
        "print(\"입력받은 돈은 %d\" %temp)\n",
        "print(\"500원 동전 :%d \"%c500)\n",
        "print(\"100원 동전 :%d \"%c100)\n",
        "print(\"50원 동전 :%d \"%c50)\n",
        "print(\"10원 동전 :%d \"%c10)\n",
        "print(\"나머지 잔돈 :%d \"%money)\n",
        "\n"
      ],
      "metadata": {
        "colab": {
          "base_uri": "https://localhost:8080/"
        },
        "id": "IoKg0-Gd12Sn",
        "outputId": "40de0947-f909-4459-fd77-e2f27d2ad31f"
      },
      "execution_count": 68,
      "outputs": [
        {
          "output_type": "stream",
          "name": "stdout",
          "text": [
            "동전으로 교환할 돈은? :2532\n",
            "입력받은 돈은 2532\n",
            "500원 동전 :5 \n",
            "100원 동전 :0 \n",
            "50원 동전 :0 \n",
            "10원 동전 :0 \n",
            "나머지 잔돈 :4 \n"
          ]
        }
      ]
    },
    {
      "cell_type": "markdown",
      "source": [
        "####조건문"
      ],
      "metadata": {
        "id": "2chd1OXM6oUw"
      }
    },
    {
      "cell_type": "code",
      "source": [
        "a=50\n",
        "if(a <100):\n",
        "  print(\"100보다 작으면 참\")\n",
        "  print(\"거짓이면 이문장은 보이지 않음\")\n",
        "print(\"프로그램 끝\")\n",
        "  "
      ],
      "metadata": {
        "colab": {
          "base_uri": "https://localhost:8080/"
        },
        "id": "JOKPUEoa6p11",
        "outputId": "a297052d-78a7-43dc-b503-ab100c5d2893"
      },
      "execution_count": 55,
      "outputs": [
        {
          "output_type": "stream",
          "name": "stdout",
          "text": [
            "100보다 작으면 참\n",
            "거짓이면 이문장은 보이지 않음\n",
            "프로그램 끝\n"
          ]
        }
      ]
    },
    {
      "cell_type": "code",
      "source": [
        "a=50\n",
        "if(a<100):\n",
        "  print(\"참 : 100보다 작음\")\n",
        "else :\n",
        "    print(\"거짓 : 조건보다 크면\")\n",
        "print(\"프로그램 끝\")"
      ],
      "metadata": {
        "colab": {
          "base_uri": "https://localhost:8080/"
        },
        "id": "P1XzG50U7YvP",
        "outputId": "9c017f26-33a3-477f-fbcc-a7f8dd59aedb"
      },
      "execution_count": 58,
      "outputs": [
        {
          "output_type": "stream",
          "name": "stdout",
          "text": [
            "참 : 100보다 작음\n",
            "프로그램 끝\n"
          ]
        }
      ]
    },
    {
      "cell_type": "code",
      "source": [
        "#홀짝 구분\n",
        "a=int(input(\"숫자 입력 : \"))\n",
        "b= a%2\n",
        "if(b==0) :\n",
        "  print(\"짝수 입니다.\")\n",
        "else : \n",
        "  print(\"홀수 입니다.\")\n"
      ],
      "metadata": {
        "colab": {
          "base_uri": "https://localhost:8080/"
        },
        "id": "VNDA6Drt78AM",
        "outputId": "a73aa9dc-2926-4736-ee93-68421043e3af"
      },
      "execution_count": 63,
      "outputs": [
        {
          "output_type": "stream",
          "name": "stdout",
          "text": [
            "숫자 입력 : 200\n",
            "짝수 입니다.\n"
          ]
        }
      ]
    },
    {
      "cell_type": "code",
      "source": [
        "a = int(input(\"숫자입력 : \"))\n",
        "if(a > 50):\n",
        "  if(a < 100):\n",
        "    print(\"50 < a < 100\")\n",
        "  else:\n",
        "    print(\"a > 100\")\n",
        "else:\n",
        "  if(a > 25): \n",
        "   print(\"25< a < 50\")\n",
        "  else:\n",
        "    print(\"a < 25\")"
      ],
      "metadata": {
        "colab": {
          "base_uri": "https://localhost:8080/"
        },
        "id": "8JAWKggs8zyF",
        "outputId": "3a68251c-1557-42cb-c7e5-f92fb9e654fa"
      },
      "execution_count": 66,
      "outputs": [
        {
          "output_type": "stream",
          "name": "stdout",
          "text": [
            "숫자입력 : 20\n",
            "a < 25\n"
          ]
        }
      ]
    },
    {
      "cell_type": "code",
      "source": [
        "fruit = ['사과','배','샤인머스켓','바나나']\n",
        "fruit.append('망고')\n",
        "if '망고' in fruit :\n",
        "  print(\"딸기가 있습니다.\") \n",
        "print(fruit)\n"
      ],
      "metadata": {
        "colab": {
          "base_uri": "https://localhost:8080/"
        },
        "id": "9jpS14hl_qfD",
        "outputId": "7cd5a94f-a04d-4f25-9f2a-c8cd63a8b9b3"
      },
      "execution_count": 73,
      "outputs": [
        {
          "output_type": "stream",
          "name": "stdout",
          "text": [
            "딸기가 있습니다.\n",
            "['사과', '배', '샤인머스켓', '바나나', '망고']\n"
          ]
        }
      ]
    },
    {
      "cell_type": "code",
      "source": [
        "for i in range(1,3,1): #시작,끝값+1,증가\n",
        "  print(\"%d 안녕하세요.\"%i)\n",
        "print(\"환영합니다.\")"
      ],
      "metadata": {
        "colab": {
          "base_uri": "https://localhost:8080/"
        },
        "id": "3kbJ0QjJAlR0",
        "outputId": "701a5742-e5df-4547-aa57-60688fade18a"
      },
      "execution_count": 78,
      "outputs": [
        {
          "output_type": "stream",
          "name": "stdout",
          "text": [
            "1 안녕하세요.\n",
            "2 안녕하세요.\n",
            "환영합니다.\n"
          ]
        }
      ]
    },
    {
      "cell_type": "code",
      "source": [
        "import random\n",
        "num = []\n",
        "for i in range(0,6):\n",
        "  num.append(random.randrange(1,46))\n",
        "print(\"생성 리스트\",num)"
      ],
      "metadata": {
        "colab": {
          "base_uri": "https://localhost:8080/"
        },
        "id": "0RvHXHbjBywH",
        "outputId": "a427eeaa-6e1e-4f3e-b64a-c6180f8e0720"
      },
      "execution_count": 86,
      "outputs": [
        {
          "output_type": "stream",
          "name": "stdout",
          "text": [
            "생성 리스트 [22, 41, 11, 40, 24, 28]\n"
          ]
        }
      ]
    },
    {
      "cell_type": "code",
      "source": [
        "for i in range(1,9,1):\n",
        "  print(\"%d\"% i,end='\\t')\n",
        "print(\"\\n\")\n",
        "for j in range(1,9,1):\n",
        "  print(\"%d\"% j,end='\\t')\n",
        "  \n",
        "\n",
        "  "
      ],
      "metadata": {
        "colab": {
          "base_uri": "https://localhost:8080/"
        },
        "id": "cJKseZXxC4ga",
        "outputId": "cbbdcbde-4c6e-4985-e6cc-55e5a71d3508"
      },
      "execution_count": 98,
      "outputs": [
        {
          "output_type": "stream",
          "name": "stdout",
          "text": [
            "1\t2\t3\t4\t5\t6\t7\t8\t\n",
            "\n",
            "1\t2\t3\t4\t5\t6\t7\t8\t"
          ]
        }
      ]
    },
    {
      "cell_type": "code",
      "source": [
        "sum=0\n",
        "for i in range(1,11,1):\n",
        "  sum = sum + i\n",
        "print(\"1부터10까지의 합: %d\"%sum)"
      ],
      "metadata": {
        "colab": {
          "base_uri": "https://localhost:8080/"
        },
        "id": "z4Zkm8RGERtK",
        "outputId": "16068851-6b97-4c44-b681-20ac59a8ffe9"
      },
      "execution_count": 95,
      "outputs": [
        {
          "output_type": "stream",
          "name": "stdout",
          "text": [
            "1부터10까지의 합: 55\n"
          ]
        }
      ]
    },
    {
      "cell_type": "code",
      "source": [
        "sum,num=0,0\n",
        "num = int(input(\"숫자입력 : \"))\n",
        "for i in  range(1,num+1,1):\n",
        "  sum = sum + i\n",
        "print(\"1~n까지의 합 : %d\"%sum)"
      ],
      "metadata": {
        "colab": {
          "base_uri": "https://localhost:8080/"
        },
        "id": "cLcow0X3E3oV",
        "outputId": "c709c1d1-19b1-4f8f-a45a-7a9a359bf37e"
      },
      "execution_count": 103,
      "outputs": [
        {
          "output_type": "stream",
          "name": "stdout",
          "text": [
            "숫자입력 : 1000\n",
            "1~n까지의 합 : 500500\n"
          ]
        }
      ]
    },
    {
      "cell_type": "code",
      "source": [
        "i,j=2,0\n",
        "for j in range(1,10):\n",
        "  print(\"%d*%d=%2d\"%(i,j,i*j))\n"
      ],
      "metadata": {
        "colab": {
          "base_uri": "https://localhost:8080/"
        },
        "id": "zxR9gLwfFv8q",
        "outputId": "e3805d70-76ba-4fe5-946b-b4969c8fdf61"
      },
      "execution_count": 105,
      "outputs": [
        {
          "output_type": "stream",
          "name": "stdout",
          "text": [
            "2*1= 2\n",
            "2*2= 4\n",
            "2*3= 6\n",
            "2*4= 8\n",
            "2*5=10\n",
            "2*6=12\n",
            "2*7=14\n",
            "2*8=16\n",
            "2*9=18\n"
          ]
        }
      ]
    },
    {
      "cell_type": "code",
      "source": [
        "i,j=0,0\n",
        "for i in range(2,10,1):\n",
        "  for j in range(1,10,1):\n",
        "    print(\"%d*%d=%2d\"%(i,j,i*j))\n",
        "  print(\"\")"
      ],
      "metadata": {
        "colab": {
          "base_uri": "https://localhost:8080/"
        },
        "id": "WBJJ7dHvGiic",
        "outputId": "ca3f200a-6541-42a0-e70a-d7f6210ed7fb"
      },
      "execution_count": 110,
      "outputs": [
        {
          "output_type": "stream",
          "name": "stdout",
          "text": [
            "2*1= 2\n",
            "2*2= 4\n",
            "2*3= 6\n",
            "2*4= 8\n",
            "2*5=10\n",
            "2*6=12\n",
            "2*7=14\n",
            "2*8=16\n",
            "2*9=18\n",
            "\n",
            "3*1= 3\n",
            "3*2= 6\n",
            "3*3= 9\n",
            "3*4=12\n",
            "3*5=15\n",
            "3*6=18\n",
            "3*7=21\n",
            "3*8=24\n",
            "3*9=27\n",
            "\n",
            "4*1= 4\n",
            "4*2= 8\n",
            "4*3=12\n",
            "4*4=16\n",
            "4*5=20\n",
            "4*6=24\n",
            "4*7=28\n",
            "4*8=32\n",
            "4*9=36\n",
            "\n",
            "5*1= 5\n",
            "5*2=10\n",
            "5*3=15\n",
            "5*4=20\n",
            "5*5=25\n",
            "5*6=30\n",
            "5*7=35\n",
            "5*8=40\n",
            "5*9=45\n",
            "\n",
            "6*1= 6\n",
            "6*2=12\n",
            "6*3=18\n",
            "6*4=24\n",
            "6*5=30\n",
            "6*6=36\n",
            "6*7=42\n",
            "6*8=48\n",
            "6*9=54\n",
            "\n",
            "7*1= 7\n",
            "7*2=14\n",
            "7*3=21\n",
            "7*4=28\n",
            "7*5=35\n",
            "7*6=42\n",
            "7*7=49\n",
            "7*8=56\n",
            "7*9=63\n",
            "\n",
            "8*1= 8\n",
            "8*2=16\n",
            "8*3=24\n",
            "8*4=32\n",
            "8*5=40\n",
            "8*6=48\n",
            "8*7=56\n",
            "8*8=64\n",
            "8*9=72\n",
            "\n",
            "9*1= 9\n",
            "9*2=18\n",
            "9*3=27\n",
            "9*4=36\n",
            "9*5=45\n",
            "9*6=54\n",
            "9*7=63\n",
            "9*8=72\n",
            "9*9=81\n",
            "\n"
          ]
        }
      ]
    },
    {
      "cell_type": "markdown",
      "source": [
        "###Quiz3 구구단을 만들고 2,3,4,5 \n",
        "\n",
        "줄바꿔서 6,7,8,9을 출력하시오."
      ],
      "metadata": {
        "id": "2or2s9HRHUw4"
      }
    },
    {
      "cell_type": "code",
      "source": [
        "for i in range(1,10):\n",
        "  for j in range(2,6):\n",
        "    print(\"%d x %d = %2d\" % (j,i,i*j), end=\"\\t\")\n",
        "  print(\"\")\n",
        "print(\"\\n\")\n",
        "a,b=0,0\n",
        "for a in range(1,10):\n",
        "  for b in range(6,10):\n",
        "    print(\"%d x %d = %2d\" % (b,a,a*b), end=\"\\t\")\n",
        "  print(\"\")"
      ],
      "metadata": {
        "colab": {
          "base_uri": "https://localhost:8080/"
        },
        "id": "ETjenkEJMf5g",
        "outputId": "caa17dd2-e760-4ea5-f8b6-003cdd4b399c"
      },
      "execution_count": 4,
      "outputs": [
        {
          "output_type": "stream",
          "name": "stdout",
          "text": [
            "2 x 1 =  2\t3 x 1 =  3\t4 x 1 =  4\t5 x 1 =  5\t\n",
            "2 x 2 =  4\t3 x 2 =  6\t4 x 2 =  8\t5 x 2 = 10\t\n",
            "2 x 3 =  6\t3 x 3 =  9\t4 x 3 = 12\t5 x 3 = 15\t\n",
            "2 x 4 =  8\t3 x 4 = 12\t4 x 4 = 16\t5 x 4 = 20\t\n",
            "2 x 5 = 10\t3 x 5 = 15\t4 x 5 = 20\t5 x 5 = 25\t\n",
            "2 x 6 = 12\t3 x 6 = 18\t4 x 6 = 24\t5 x 6 = 30\t\n",
            "2 x 7 = 14\t3 x 7 = 21\t4 x 7 = 28\t5 x 7 = 35\t\n",
            "2 x 8 = 16\t3 x 8 = 24\t4 x 8 = 32\t5 x 8 = 40\t\n",
            "2 x 9 = 18\t3 x 9 = 27\t4 x 9 = 36\t5 x 9 = 45\t\n",
            "\n",
            "\n",
            "6 x 1 =  6\t7 x 1 =  7\t8 x 1 =  8\t9 x 1 =  9\t\n",
            "6 x 2 = 12\t7 x 2 = 14\t8 x 2 = 16\t9 x 2 = 18\t\n",
            "6 x 3 = 18\t7 x 3 = 21\t8 x 3 = 24\t9 x 3 = 27\t\n",
            "6 x 4 = 24\t7 x 4 = 28\t8 x 4 = 32\t9 x 4 = 36\t\n",
            "6 x 5 = 30\t7 x 5 = 35\t8 x 5 = 40\t9 x 5 = 45\t\n",
            "6 x 6 = 36\t7 x 6 = 42\t8 x 6 = 48\t9 x 6 = 54\t\n",
            "6 x 7 = 42\t7 x 7 = 49\t8 x 7 = 56\t9 x 7 = 63\t\n",
            "6 x 8 = 48\t7 x 8 = 56\t8 x 8 = 64\t9 x 8 = 72\t\n",
            "6 x 9 = 54\t7 x 9 = 63\t8 x 9 = 72\t9 x 9 = 81\t\n"
          ]
        }
      ]
    },
    {
      "cell_type": "code",
      "source": [],
      "metadata": {
        "id": "3joswwYkJsON"
      },
      "execution_count": null,
      "outputs": []
    }
  ]
}