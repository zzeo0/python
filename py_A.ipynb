{
  "nbformat": 4,
  "nbformat_minor": 0,
  "metadata": {
    "colab": {
      "provenance": [],
      "authorship_tag": "ABX9TyNoKFq8T5EPQEXCtb4AFTcz",
      "include_colab_link": true
    },
    "kernelspec": {
      "name": "python3",
      "display_name": "Python 3"
    },
    "language_info": {
      "name": "python"
    }
  },
  "cells": [
    {
      "cell_type": "markdown",
      "metadata": {
        "id": "view-in-github",
        "colab_type": "text"
      },
      "source": [
        "<a href=\"https://colab.research.google.com/github/zzeo0/python/blob/main/py_A.ipynb\" target=\"_parent\"><img src=\"https://colab.research.google.com/assets/colab-badge.svg\" alt=\"Open In Colab\"/></a>"
      ]
    },
    {
      "cell_type": "markdown",
      "source": [
        "#CH1. 파이썬 문법\n",
        "## 자료형\n",
        "**숫자형**\n",
        "\n",
        "\n",
        "* 정수 : 123,456,0,-30\n",
        "* 실수 : 12.345, -987.65, 0.7e\n",
        "* 8진수 : 0o765\n",
        "* 16진수 : 0x0D, 0x0A, 0xFF\n",
        "\n",
        "**변수**\n",
        "* 문자 또는 밑줄(_kim, alpha)\n",
        "* 대소문자 구분(sum, Sum, SUM)\n",
        "* 영문자, 숫자, 밑줄(A-z, 0-9,_)\\\n",
        " ex) sun_9, Alpha, s9n)\n",
        "* 파이썬 키워드 (print...)\n",
        "\n",
        "\n",
        "**표기법**\n",
        "+ 카멜(낙타) : myName\n",
        "+ 스네이크(뱀) : my_name\n",
        "+ 파스칼 : MyName\n",
        "\n"
      ],
      "metadata": {
        "id": "SE-m2XgJhuXL"
      }
    },
    {
      "cell_type": "code",
      "source": [
        "a = 10\n",
        "b = 20\n",
        "f=\"10\"\n",
        "c = a + b\n",
        "print(a,b,c,f)\n"
      ],
      "metadata": {
        "colab": {
          "base_uri": "https://localhost:8080/"
        },
        "id": "TlwK3o5flWDW",
        "outputId": "e9fa6db8-0737-4c46-e83b-51cd1ca9d8d5"
      },
      "execution_count": null,
      "outputs": [
        {
          "output_type": "stream",
          "name": "stdout",
          "text": [
            "10 20 30 10\n"
          ]
        }
      ]
    },
    {
      "cell_type": "code",
      "source": [],
      "metadata": {
        "id": "NYQqMwW7qaBi"
      },
      "execution_count": null,
      "outputs": []
    },
    {
      "cell_type": "markdown",
      "source": [],
      "metadata": {
        "id": "jAj7MLr_hrp0"
      }
    },
    {
      "cell_type": "code",
      "source": [
        "a=10\n",
        "b=20 #주석\n",
        "c=\"10\"\n",
        "d=\"20\"\n",
        "print(a+b)\n",
        "print(type(a))\n",
        "print(type(c))\n",
        "print(c+d)\n",
        "print(c,d)"
      ],
      "metadata": {
        "colab": {
          "base_uri": "https://localhost:8080/"
        },
        "id": "-a0212ftmCAm",
        "outputId": "c68ac867-7a1e-48ec-e831-a02e67325589"
      },
      "execution_count": null,
      "outputs": [
        {
          "output_type": "stream",
          "name": "stdout",
          "text": [
            "30\n",
            "<class 'int'>\n",
            "<class 'str'>\n",
            "1020\n",
            "10 20\n"
          ]
        }
      ]
    },
    {
      "cell_type": "code",
      "source": [
        "# 나눗셈 \n",
        "a = 10\n",
        "b = 3\n",
        "c = a / b\n",
        "d = a // b # 몫\n",
        "e = a % b # 나머지\n",
        "print(c,d,e)\n",
        "\n",
        "\n"
      ],
      "metadata": {
        "colab": {
          "base_uri": "https://localhost:8080/"
        },
        "id": "U8PSx_YrmAYc",
        "outputId": "68db579a-ca1d-4fe5-9dd3-0cf24b6e5b1c"
      },
      "execution_count": null,
      "outputs": [
        {
          "output_type": "stream",
          "name": "stdout",
          "text": [
            "3.3333333333333335 3 1\n"
          ]
        }
      ]
    },
    {
      "cell_type": "code",
      "source": [
        "# 곱셈\n",
        "a = 10\n",
        "b = 3\n",
        "c = a * b # 곱하기\n",
        "d = a ** b # 제곱\n",
        "print(c,d)"
      ],
      "metadata": {
        "colab": {
          "base_uri": "https://localhost:8080/"
        },
        "id": "mUYPdLkHrCdO",
        "outputId": "072ad209-044f-4072-9b80-431749b2bf0f"
      },
      "execution_count": null,
      "outputs": [
        {
          "output_type": "stream",
          "name": "stdout",
          "text": [
            "30 1000\n"
          ]
        }
      ]
    },
    {
      "cell_type": "markdown",
      "source": [
        "#### 문자열\n",
        "1. 큰따옴표 : \" Suil Do\"\n",
        "2. 작은 따옴표 : 'Suil Do'\n",
        "3. 큰따옴표 3개 : \"\"\"대한민국\"\"\"\n",
        "4. 작은 따옴표 : '''대한민국'''\n",
        "5. \"동해물과 백두산이 마르고 닳도록 Kim\\'s\""
      ],
      "metadata": {
        "id": "-yYFtuImris_"
      }
    },
    {
      "cell_type": "code",
      "source": [
        "# 변수\n",
        "MyName=\"Do Su Il\"\n",
        "my_name=\"도수일\"\n",
        "_my_name=\"korea\"\n",
        "MYNAME=\"코리아\"\n",
        "my2name=\"dododo\"\n",
        "# 2myname=\"숫자먼저\"\n",
        "# my-name =\"마이너스\"\n",
        "# my name=\"스페이스\"\n",
        "myName1=1234\n",
        "myName2=\"1234\"\n",
        "print(type(myName1))\n",
        "print(type(myName2))"
      ],
      "metadata": {
        "colab": {
          "base_uri": "https://localhost:8080/"
        },
        "id": "nVFUffzhtQM9",
        "outputId": "383e8bde-663b-4e8e-f2cf-9044a97f653d"
      },
      "execution_count": null,
      "outputs": [
        {
          "output_type": "stream",
          "name": "stdout",
          "text": [
            "<class 'int'>\n",
            "<class 'str'>\n"
          ]
        }
      ]
    },
    {
      "cell_type": "markdown",
      "source": [
        "***변수할당***"
      ],
      "metadata": {
        "id": "_7B12sbXuz18"
      }
    },
    {
      "cell_type": "code",
      "source": [
        "a=b=c= \"브라보콘\"\n",
        "print(a)\n",
        "print(b)\n",
        "print(c)"
      ],
      "metadata": {
        "colab": {
          "base_uri": "https://localhost:8080/"
        },
        "id": "Wy44SSe3u4Qr",
        "outputId": "c99cfc10-fdc1-4d59-dbae-42ad3e3f0403"
      },
      "execution_count": null,
      "outputs": [
        {
          "output_type": "stream",
          "name": "stdout",
          "text": [
            "브라보콘\n",
            "브라보콘\n",
            "브라보콘\n"
          ]
        }
      ]
    },
    {
      "cell_type": "code",
      "source": [
        "x,y,z = \"딸기\",\"포도\",\"바나나\"\n",
        "print(x)\n",
        "print(y)\n",
        "print(z)\n",
        "c,s,c = \"딸기\",\"포도\",\"바나나\"\n",
        "print(c,s,c)"
      ],
      "metadata": {
        "colab": {
          "base_uri": "https://localhost:8080/"
        },
        "id": "B0cNcDNovD4b",
        "outputId": "36bcecbc-6b3d-4515-dda0-ba489cdabde2"
      },
      "execution_count": null,
      "outputs": [
        {
          "output_type": "stream",
          "name": "stdout",
          "text": [
            "딸기\n",
            "포도\n",
            "바나나\n",
            "바나나 포도 바나나\n"
          ]
        }
      ]
    },
    {
      "cell_type": "code",
      "source": [
        "fruits = [\"누가바\",\"쌍쌍바\",\"보석바\"]\n",
        "x,y,z = fruits\n",
        "print(x)\n",
        "print(y)\n",
        "print(z)\n"
      ],
      "metadata": {
        "colab": {
          "base_uri": "https://localhost:8080/"
        },
        "id": "27nzfXmTv9JV",
        "outputId": "ff11a412-8d31-47bb-ad52-ececa3096e61"
      },
      "execution_count": null,
      "outputs": [
        {
          "output_type": "stream",
          "name": "stdout",
          "text": [
            "누가바\n",
            "쌍쌍바\n",
            "보석바\n"
          ]
        }
      ]
    },
    {
      "cell_type": "code",
      "source": [
        "x = \"Life\"\n",
        "y = \"is\"\n",
        "z = \"beautiful!\"\n",
        "print(x,y,z)\n",
        "print(x+y+z)"
      ],
      "metadata": {
        "colab": {
          "base_uri": "https://localhost:8080/"
        },
        "id": "_yRZzNuywfXD",
        "outputId": "eb02d5fb-59e4-45c9-f789-2499b39f392a"
      },
      "execution_count": null,
      "outputs": [
        {
          "output_type": "stream",
          "name": "stdout",
          "text": [
            "Life is beautiful!\n",
            "Lifeisbeautiful!\n"
          ]
        }
      ]
    },
    {
      "cell_type": "code",
      "source": [
        "a=1\n",
        "b=2\n",
        "c=3\n",
        "print(a+b+c)\n",
        "print(a,b,c)"
      ],
      "metadata": {
        "colab": {
          "base_uri": "https://localhost:8080/"
        },
        "id": "rTX9NA7wxEqt",
        "outputId": "26bc5f7b-fe7e-4740-fecd-9e7b8938f923"
      },
      "execution_count": null,
      "outputs": [
        {
          "output_type": "stream",
          "name": "stdout",
          "text": [
            "6\n",
            "1 2 3\n"
          ]
        }
      ]
    },
    {
      "cell_type": "code",
      "source": [
        "a='1'\n",
        "b='2'\n",
        "c='3'\n",
        "print(a+b+c)\n",
        "print(a,b,c)"
      ],
      "metadata": {
        "colab": {
          "base_uri": "https://localhost:8080/"
        },
        "id": "xd_o9hndxlDO",
        "outputId": "7cd27dc6-ffaa-4ba7-a1b4-879393a06725"
      },
      "execution_count": null,
      "outputs": [
        {
          "output_type": "stream",
          "name": "stdout",
          "text": [
            "123\n",
            "1 2 3\n"
          ]
        }
      ]
    },
    {
      "cell_type": "markdown",
      "source": [
        "데이터 바꾸기"
      ],
      "metadata": {
        "id": "cJAnAxOd77Er"
      }
    },
    {
      "cell_type": "code",
      "source": [
        "a = 1; b = 2\n",
        "a,b = b,a\n",
        "print(a,b)"
      ],
      "metadata": {
        "colab": {
          "base_uri": "https://localhost:8080/"
        },
        "id": "hqHPsAGb7943",
        "outputId": "ce2fc322-d32d-42d4-fa20-a29d4fa1c4d1"
      },
      "execution_count": null,
      "outputs": [
        {
          "output_type": "stream",
          "name": "stdout",
          "text": [
            "2 1\n"
          ]
        }
      ]
    },
    {
      "cell_type": "code",
      "source": [
        "b = 2; c = 3\n",
        "# c = (b=b+c) # error\n"
      ],
      "metadata": {
        "id": "dgUU97QJ8aaM"
      },
      "execution_count": null,
      "outputs": []
    },
    {
      "cell_type": "code",
      "source": [
        "a=1;b=2;c=3\n",
        "f = a + b + \\\n",
        "c\n",
        "print(f)"
      ],
      "metadata": {
        "colab": {
          "base_uri": "https://localhost:8080/"
        },
        "id": "E3-DwGI58nBA",
        "outputId": "6b933519-ccda-4c28-dfc0-7186264b96b0"
      },
      "execution_count": null,
      "outputs": [
        {
          "output_type": "stream",
          "name": "stdout",
          "text": [
            "6\n"
          ]
        }
      ]
    },
    {
      "cell_type": "code",
      "source": [
        "# len()\n",
        "\n",
        "a=\"123456\"\n",
        "b=[2,3,4,5]\n",
        "print(len(a))\n",
        "print(len(b))"
      ],
      "metadata": {
        "colab": {
          "base_uri": "https://localhost:8080/"
        },
        "id": "2rOdkKvD89eC",
        "outputId": "0ff0f798-0b93-41cf-c7ba-29ee3e5a5201"
      },
      "execution_count": null,
      "outputs": [
        {
          "output_type": "stream",
          "name": "stdout",
          "text": [
            "6\n",
            "4\n"
          ]
        }
      ]
    },
    {
      "cell_type": "markdown",
      "source": [
        "#### 계산기"
      ],
      "metadata": {
        "id": "rEk-5sPI9WaI"
      }
    },
    {
      "cell_type": "code",
      "source": [
        "a = 100\n",
        "b = 200\n",
        "result = a+b\n",
        "print(a,'+',b,'=',result)\n",
        "result = a-b\n",
        "print(a,'-',b,'=',result)\n",
        "result = a/b\n",
        "print(a,'/',b,'=',result)\n",
        "result = a*b\n",
        "print(a,'*',b,'=',result)\n"
      ],
      "metadata": {
        "colab": {
          "base_uri": "https://localhost:8080/"
        },
        "id": "sHjzJwGJ9Z-Y",
        "outputId": "b022ad5a-3abf-4272-e2b1-eef6e97471ef"
      },
      "execution_count": null,
      "outputs": [
        {
          "output_type": "stream",
          "name": "stdout",
          "text": [
            "100 + 200 = 300\n",
            "100 - 200 = -100\n",
            "100 / 200 = 0.5\n",
            "100 * 200 = 20000\n"
          ]
        }
      ]
    },
    {
      "cell_type": "code",
      "source": [
        "a=\"1234\"\n",
        "b=5678\n",
        "c=int(a)+ b\n",
        "print(c)"
      ],
      "metadata": {
        "colab": {
          "base_uri": "https://localhost:8080/"
        },
        "id": "WYbECUoDAo-6",
        "outputId": "2acf43ba-49fd-4262-b820-1f58d9b0b11d"
      },
      "execution_count": null,
      "outputs": [
        {
          "output_type": "stream",
          "name": "stdout",
          "text": [
            "6912\n"
          ]
        }
      ]
    },
    {
      "cell_type": "code",
      "source": [
        "# 계산기 2\n",
        "num1 = int(input(\"숫자입력1: \"))\n",
        "num2 = int(input(\"숫자입력2: \"))\n",
        "\n",
        "result1 = num1 + num2\n",
        "result2 = num1 - num2\n",
        "result3 = num1 / num2\n",
        "result4 = num1 * num2\n",
        "print(num1,'+',num2,'=',result1)\n",
        "print(num1,'-',num2,'=',result2)\n",
        "print(num1,'/',num2,'=',result3)\n",
        "print(num1,'*',num2,'=',result4)"
      ],
      "metadata": {
        "colab": {
          "base_uri": "https://localhost:8080/"
        },
        "id": "1u7b5eqgBABk",
        "outputId": "d5f84d56-8dc7-4cb3-9610-16773654ec32"
      },
      "execution_count": null,
      "outputs": [
        {
          "output_type": "stream",
          "name": "stdout",
          "text": [
            "숫자입력1: 1\n",
            "숫자입력2: 2\n",
            "1 + 2 = 3\n",
            "1 - 2 = -1\n",
            "1 / 2 = 0.5\n",
            "1 * 2 = 2\n"
          ]
        }
      ]
    },
    {
      "cell_type": "code",
      "source": [
        "#자기이름,전화번호,택배(g)X100\n",
        "\n",
        "n1=input(\"이름: \")\n",
        "n2=input(\"전화번호: \")\n",
        "n3=int(input(\"택배(g)x100 : \"))\n",
        "n4= n3*100\n",
        "\n",
        "print(\"이름은 \"+(n1)+\"입니다.\")\n",
        "print(\"전화번호는\"+(n2)+ \"입니다.\")\n",
        "print(\"택배\"+str(n3)+\"(g)x100은 \"+str(n4)+\" 입니다.\")"
      ],
      "metadata": {
        "colab": {
          "base_uri": "https://localhost:8080/"
        },
        "id": "ggdaibbFDz26",
        "outputId": "2dbd5fe3-9225-496d-d6a4-7709c02681d7"
      },
      "execution_count": null,
      "outputs": [
        {
          "output_type": "stream",
          "name": "stdout",
          "text": [
            "이름: 도수일\n",
            "전화번호: 010 1234 5678\n",
            "택배(g)x100 : 3\n",
            "이름은 도수일입니다.\n",
            "전화번호는010 1234 5678입니다.\n",
            "택배3(g)x100은 300 입니다.\n"
          ]
        }
      ]
    },
    {
      "cell_type": "markdown",
      "source": [
        "#CH2. 서식 출력 \n"
      ],
      "metadata": {
        "id": "XlhZyC7PicpH"
      }
    },
    {
      "cell_type": "code",
      "source": [
        "print(\"%d\"%123)\n",
        "print(\"%5d\"%123)\n",
        "print(\"%05d\"%123)\n",
        "\n",
        "print(\"%f\" %123.45)\n",
        "print(\"%7.1f\"%123.45)\n",
        "print(\"%7.3f\"%123.45)\n",
        "\n",
        "print(\"%c\"%\"1\")\n",
        "print(\"%s\"%\"가나다라\")\n",
        "print(\"%6s\"%\"가나다라\")\n",
        "print(\"%6s\"%\"abcd\")\n",
        "\n"
      ],
      "metadata": {
        "colab": {
          "base_uri": "https://localhost:8080/"
        },
        "id": "DpYfE4Rzioui",
        "outputId": "92b2651c-3d44-4c83-af2d-5cbfbd3e818d"
      },
      "execution_count": null,
      "outputs": [
        {
          "output_type": "stream",
          "name": "stdout",
          "text": [
            "123\n",
            "  123\n",
            "00123\n",
            "123.450000\n",
            "  123.5\n",
            "123.450\n",
            "1\n",
            "가나다라\n",
            "  가나다라\n",
            "  abcd\n"
          ]
        }
      ]
    },
    {
      "cell_type": "markdown",
      "source": [
        "### 순서 지정 기능 : format"
      ],
      "metadata": {
        "id": "AGLIKWUMkNIG"
      }
    },
    {
      "cell_type": "code",
      "source": [
        "print(\"{0:d}{1:5d} {2:05d}\".format(123,456,789))"
      ],
      "metadata": {
        "colab": {
          "base_uri": "https://localhost:8080/"
        },
        "id": "vn-nng_kkWY5",
        "outputId": "6631bf6b-a64d-4f6b-9282-a0b871fd3adf"
      },
      "execution_count": null,
      "outputs": [
        {
          "output_type": "stream",
          "name": "stdout",
          "text": [
            "123  456 00789\n"
          ]
        }
      ]
    },
    {
      "cell_type": "code",
      "source": [
        "print(\"{2:d}{1:5d} {0:05d}\".format(123,456,789))"
      ],
      "metadata": {
        "colab": {
          "base_uri": "https://localhost:8080/"
        },
        "id": "Uf68iZ1ckx7N",
        "outputId": "9f39f153-a44c-47ee-8af3-5d747524eb01"
      },
      "execution_count": null,
      "outputs": [
        {
          "output_type": "stream",
          "name": "stdout",
          "text": [
            "789  456 00123\n"
          ]
        }
      ]
    },
    {
      "cell_type": "markdown",
      "source": [
        "#### 서식 출력"
      ],
      "metadata": {
        "id": "oUn7i1u-k7Hh"
      }
    },
    {
      "cell_type": "code",
      "source": [
        "print(\"\\n줄 바꿈 명령 \\n연습 입니다.\")"
      ],
      "metadata": {
        "colab": {
          "base_uri": "https://localhost:8080/"
        },
        "id": "SFp1ZvKVk__p",
        "outputId": "fe904c81-ce00-41c8-c000-cde5fdafd9b3"
      },
      "execution_count": null,
      "outputs": [
        {
          "output_type": "stream",
          "name": "stdout",
          "text": [
            "\n",
            "줄 바꿈 명령 \n",
            "연습 입니다.\n"
          ]
        }
      ]
    },
    {
      "cell_type": "code",
      "source": [
        "print(\"\\t탭키 명령 \\t연습입니다.\")"
      ],
      "metadata": {
        "colab": {
          "base_uri": "https://localhost:8080/"
        },
        "id": "O7derL_GlKzK",
        "outputId": "3265b120-7c49-4788-c8b0-e7586410df80"
      },
      "execution_count": null,
      "outputs": [
        {
          "output_type": "stream",
          "name": "stdout",
          "text": [
            "\t탭키 명령 \t연습입니다.\n"
          ]
        }
      ]
    },
    {
      "cell_type": "code",
      "source": [
        "print(\"따옴표 글자가 \\\"강조\\\"되는 효과1\")\n",
        "print(\"따음표 글자가 \\'강조\\'되는 효과2\")\n",
        "print(\"역슬레시 3개를 출력하려면 \\\\\\\\\\\\ 6개\")\n",
        "print(r\"\\n \\t \\\" \\\\ \\' @를 그대로 출력\")"
      ],
      "metadata": {
        "colab": {
          "base_uri": "https://localhost:8080/"
        },
        "id": "LcuGGWb9lagd",
        "outputId": "cbf4313c-4aa3-4e28-e8c8-b2cfeb2f95db"
      },
      "execution_count": null,
      "outputs": [
        {
          "output_type": "stream",
          "name": "stdout",
          "text": [
            "따옴표 글자가 \"강조\"되는 효과1\n",
            "따음표 글자가 '강조'되는 효과2\n",
            "역슬레시 3개를 출력하려면 \\\\\\ 6개\n",
            "\\n \\t \\\" \\\\ \\' @를 그대로 출력\n"
          ]
        }
      ]
    },
    {
      "cell_type": "markdown",
      "source": [
        "#### 관계 연산자자"
      ],
      "metadata": {
        "id": "YYrirXrfuftt"
      }
    },
    {
      "cell_type": "code",
      "source": [
        "a,b=10,20\n",
        "print(a==b,a!=b,a>=b,a<=b,a>b,a<b)"
      ],
      "metadata": {
        "colab": {
          "base_uri": "https://localhost:8080/"
        },
        "id": "KHV3NkSKukTW",
        "outputId": "0aff15bf-9e7d-440b-ccba-0081f35ec992"
      },
      "execution_count": null,
      "outputs": [
        {
          "output_type": "stream",
          "name": "stdout",
          "text": [
            "False True False True False True\n"
          ]
        }
      ]
    },
    {
      "cell_type": "code",
      "source": [
        "#### 논논리 연산자 and,or,not"
      ],
      "metadata": {
        "id": "R83jw7GuvA5q"
      },
      "execution_count": null,
      "outputs": []
    },
    {
      "cell_type": "code",
      "source": [
        "a=95\n",
        "print((a>100) and (a<200)) #100<a<200\n",
        "print((a<100)or(a>200))    #a<100,a>200\n",
        "print(not(a==100)) # a<=99,a>=101"
      ],
      "metadata": {
        "colab": {
          "base_uri": "https://localhost:8080/"
        },
        "id": "EMgGiFFbvFAd",
        "outputId": "3c68aae8-befb-41b1-8d98-dd24343e32b7"
      },
      "execution_count": null,
      "outputs": [
        {
          "output_type": "stream",
          "name": "stdout",
          "text": [
            "False\n",
            "True\n",
            "True\n"
          ]
        }
      ]
    },
    {
      "cell_type": "code",
      "source": [
        "if(10):\n",
        "    print(\"참이면 실행되어 보임\")\n",
        "if(0):\n",
        "    print(\"거짓이면 안보임\")"
      ],
      "metadata": {
        "colab": {
          "base_uri": "https://localhost:8080/"
        },
        "id": "nbsBmoTiwbeb",
        "outputId": "dc1a64cf-f530-4fd6-a80b-ab53baa1ffc0"
      },
      "execution_count": null,
      "outputs": [
        {
          "output_type": "stream",
          "name": "stdout",
          "text": [
            "참이면 실행되어 보임\n"
          ]
        }
      ]
    },
    {
      "cell_type": "markdown",
      "source": [
        "### 퀴즈2 //몫 % 나머지 int(input(\"입력\")) \n",
        "지폐 금액입력 후 동전으로 교환시 (500원,100원,50원,10원)\n",
        "money,c500,c100,c50,c10\n",
        "\n",
        "500원 : ?개\n",
        "100원 : ?개\n",
        "50원 : ?개\n",
        "10원 : ?개"
      ],
      "metadata": {
        "id": "ueWg3jGyxAnv"
      }
    },
    {
      "cell_type": "code",
      "source": [
        "money=int(input(\"지폐 금액을 입력하세요.\")) ##직접 만든 문제\n",
        "c500=money//500\n",
        "c100=money//100\n",
        "c50=money//50\n",
        "c10=money//10\n",
        "a=money%500\n",
        "b=money%100\n",
        "c=money%50\n",
        "d=money%10\n",
        "\n",
        "print(\"500원 :{}개\\n100원 :{}개\\n50원 :{}개\\n10원 :{}개 \".format(c500,c100,c50,c10,))\n",
        "print(\"500원 나머지 :{}개\\n100원 나머지 :{}개\\n 50원 나머지 :{}개\\n 10원 나머지 :{}개\".format(a,b,c,d))"
      ],
      "metadata": {
        "colab": {
          "base_uri": "https://localhost:8080/"
        },
        "id": "Gjz3J7zIxKwm",
        "outputId": "c19bb09f-b33f-4d3a-cefb-f45c9973fdc2"
      },
      "execution_count": null,
      "outputs": [
        {
          "output_type": "stream",
          "name": "stdout",
          "text": [
            "지폐 금액을 입력하세요.3029\n",
            "500원 :6개\n",
            "100원 :30개\n",
            "50원 :60개\n",
            "10원 :302개 \n",
            "500원 나머지 :29개\n",
            "100원 나머지 :29개\n",
            " 50원 나머지 :29개\n",
            " 10원 나머지 :9개\n"
          ]
        }
      ]
    },
    {
      "cell_type": "code",
      "source": [
        "money,c500,c100,c50,c10=0,0,0,0,0 ## 함께 만든 문제\n",
        "money=int(input(\"동전으로 교환할 돈은? :\"))\n",
        "temp=money\n",
        "c500 =money//500 #몫\n",
        "money %= money % 500 #money %500\n",
        "c100= money//100\n",
        "money %=100\n",
        "c10=money//10\n",
        "money %=10 #1~9\n",
        "print(\"입력받은 돈은 %d\" %temp)\n",
        "print(\"500원 동전 :%d \"%c500)\n",
        "print(\"100원 동전 :%d \"%c100)\n",
        "print(\"50원 동전 :%d \"%c50)\n",
        "print(\"10원 동전 :%d \"%c10)\n",
        "print(\"나머지 잔돈 :%d \"%money)\n",
        "\n"
      ],
      "metadata": {
        "colab": {
          "base_uri": "https://localhost:8080/"
        },
        "id": "IoKg0-Gd12Sn",
        "outputId": "40de0947-f909-4459-fd77-e2f27d2ad31f"
      },
      "execution_count": null,
      "outputs": [
        {
          "output_type": "stream",
          "name": "stdout",
          "text": [
            "동전으로 교환할 돈은? :2532\n",
            "입력받은 돈은 2532\n",
            "500원 동전 :5 \n",
            "100원 동전 :0 \n",
            "50원 동전 :0 \n",
            "10원 동전 :0 \n",
            "나머지 잔돈 :4 \n"
          ]
        }
      ]
    },
    {
      "cell_type": "markdown",
      "source": [
        "####조건문"
      ],
      "metadata": {
        "id": "2chd1OXM6oUw"
      }
    },
    {
      "cell_type": "code",
      "source": [
        "a=50\n",
        "if(a <100):\n",
        "  print(\"100보다 작으면 참\")\n",
        "  print(\"거짓이면 이문장은 보이지 않음\")\n",
        "print(\"프로그램 끝\")\n",
        "  "
      ],
      "metadata": {
        "colab": {
          "base_uri": "https://localhost:8080/"
        },
        "id": "JOKPUEoa6p11",
        "outputId": "a297052d-78a7-43dc-b503-ab100c5d2893"
      },
      "execution_count": null,
      "outputs": [
        {
          "output_type": "stream",
          "name": "stdout",
          "text": [
            "100보다 작으면 참\n",
            "거짓이면 이문장은 보이지 않음\n",
            "프로그램 끝\n"
          ]
        }
      ]
    },
    {
      "cell_type": "code",
      "source": [
        "a=50\n",
        "if(a<100):\n",
        "  print(\"참 : 100보다 작음\")\n",
        "else :\n",
        "    print(\"거짓 : 조건보다 크면\")\n",
        "print(\"프로그램 끝\")"
      ],
      "metadata": {
        "colab": {
          "base_uri": "https://localhost:8080/"
        },
        "id": "P1XzG50U7YvP",
        "outputId": "9c017f26-33a3-477f-fbcc-a7f8dd59aedb"
      },
      "execution_count": null,
      "outputs": [
        {
          "output_type": "stream",
          "name": "stdout",
          "text": [
            "참 : 100보다 작음\n",
            "프로그램 끝\n"
          ]
        }
      ]
    },
    {
      "cell_type": "code",
      "source": [
        "#홀짝 구분\n",
        "a=int(input(\"숫자 입력 : \"))\n",
        "b= a%2\n",
        "if(b==0) :\n",
        "  print(\"짝수 입니다.\")\n",
        "else : \n",
        "  print(\"홀수 입니다.\")\n"
      ],
      "metadata": {
        "colab": {
          "base_uri": "https://localhost:8080/"
        },
        "id": "VNDA6Drt78AM",
        "outputId": "a73aa9dc-2926-4736-ee93-68421043e3af"
      },
      "execution_count": null,
      "outputs": [
        {
          "output_type": "stream",
          "name": "stdout",
          "text": [
            "숫자 입력 : 200\n",
            "짝수 입니다.\n"
          ]
        }
      ]
    },
    {
      "cell_type": "code",
      "source": [
        "a = int(input(\"숫자입력 : \"))\n",
        "if(a > 50):\n",
        "  if(a < 100):\n",
        "    print(\"50 < a < 100\")\n",
        "  else:\n",
        "    print(\"a > 100\")\n",
        "else:\n",
        "  if(a > 25): \n",
        "   print(\"25< a < 50\")\n",
        "  else:\n",
        "    print(\"a < 25\")"
      ],
      "metadata": {
        "colab": {
          "base_uri": "https://localhost:8080/"
        },
        "id": "8JAWKggs8zyF",
        "outputId": "3a68251c-1557-42cb-c7e5-f92fb9e654fa"
      },
      "execution_count": null,
      "outputs": [
        {
          "output_type": "stream",
          "name": "stdout",
          "text": [
            "숫자입력 : 20\n",
            "a < 25\n"
          ]
        }
      ]
    },
    {
      "cell_type": "code",
      "source": [
        "fruit = ['사과','배','샤인머스켓','바나나']\n",
        "fruit.append('망고')\n",
        "if '망고' in fruit :\n",
        "  print(\"딸기가 있습니다.\") \n",
        "print(fruit)\n"
      ],
      "metadata": {
        "colab": {
          "base_uri": "https://localhost:8080/"
        },
        "id": "9jpS14hl_qfD",
        "outputId": "7cd5a94f-a04d-4f25-9f2a-c8cd63a8b9b3"
      },
      "execution_count": null,
      "outputs": [
        {
          "output_type": "stream",
          "name": "stdout",
          "text": [
            "딸기가 있습니다.\n",
            "['사과', '배', '샤인머스켓', '바나나', '망고']\n"
          ]
        }
      ]
    },
    {
      "cell_type": "code",
      "source": [
        "for i in range(1,3,1): #시작,끝값+1,증가\n",
        "  print(\"%d 안녕하세요.\"%i)\n",
        "print(\"환영합니다.\")"
      ],
      "metadata": {
        "colab": {
          "base_uri": "https://localhost:8080/"
        },
        "id": "3kbJ0QjJAlR0",
        "outputId": "701a5742-e5df-4547-aa57-60688fade18a"
      },
      "execution_count": null,
      "outputs": [
        {
          "output_type": "stream",
          "name": "stdout",
          "text": [
            "1 안녕하세요.\n",
            "2 안녕하세요.\n",
            "환영합니다.\n"
          ]
        }
      ]
    },
    {
      "cell_type": "code",
      "source": [
        "import random\n",
        "num = []\n",
        "for i in range(0,6):\n",
        "  num.append(random.randrange(1,46))\n",
        "print(\"생성 리스트\",num)"
      ],
      "metadata": {
        "colab": {
          "base_uri": "https://localhost:8080/"
        },
        "id": "0RvHXHbjBywH",
        "outputId": "a427eeaa-6e1e-4f3e-b64a-c6180f8e0720"
      },
      "execution_count": null,
      "outputs": [
        {
          "output_type": "stream",
          "name": "stdout",
          "text": [
            "생성 리스트 [22, 41, 11, 40, 24, 28]\n"
          ]
        }
      ]
    },
    {
      "cell_type": "code",
      "source": [
        "for i in range(1,9,1):\n",
        "  print(\"%d\"% i,end='\\t')\n",
        "print(\"\\n\")\n",
        "for j in range(1,9,1):\n",
        "  print(\"%d\"% j,end='\\t')\n",
        "  \n",
        "\n",
        "  "
      ],
      "metadata": {
        "colab": {
          "base_uri": "https://localhost:8080/"
        },
        "id": "cJKseZXxC4ga",
        "outputId": "cbbdcbde-4c6e-4985-e6cc-55e5a71d3508"
      },
      "execution_count": null,
      "outputs": [
        {
          "output_type": "stream",
          "name": "stdout",
          "text": [
            "1\t2\t3\t4\t5\t6\t7\t8\t\n",
            "\n",
            "1\t2\t3\t4\t5\t6\t7\t8\t"
          ]
        }
      ]
    },
    {
      "cell_type": "code",
      "source": [
        "sum=0\n",
        "for i in range(1,11,1):\n",
        "  sum = sum + i\n",
        "print(\"1부터10까지의 합: %d\"%sum)"
      ],
      "metadata": {
        "colab": {
          "base_uri": "https://localhost:8080/"
        },
        "id": "z4Zkm8RGERtK",
        "outputId": "16068851-6b97-4c44-b681-20ac59a8ffe9"
      },
      "execution_count": null,
      "outputs": [
        {
          "output_type": "stream",
          "name": "stdout",
          "text": [
            "1부터10까지의 합: 55\n"
          ]
        }
      ]
    },
    {
      "cell_type": "code",
      "source": [
        "sum,num=0,0\n",
        "num = int(input(\"숫자입력 : \"))\n",
        "for i in  range(1,num+1,1):\n",
        "  sum = sum + i\n",
        "print(\"1~n까지의 합 : %d\"%sum)"
      ],
      "metadata": {
        "colab": {
          "base_uri": "https://localhost:8080/"
        },
        "id": "cLcow0X3E3oV",
        "outputId": "c709c1d1-19b1-4f8f-a45a-7a9a359bf37e"
      },
      "execution_count": null,
      "outputs": [
        {
          "output_type": "stream",
          "name": "stdout",
          "text": [
            "숫자입력 : 1000\n",
            "1~n까지의 합 : 500500\n"
          ]
        }
      ]
    },
    {
      "cell_type": "code",
      "source": [
        "i,j=2,0\n",
        "for j in range(1,10):\n",
        "  print(\"%d*%d=%2d\"%(i,j,i*j))\n"
      ],
      "metadata": {
        "colab": {
          "base_uri": "https://localhost:8080/"
        },
        "id": "zxR9gLwfFv8q",
        "outputId": "e3805d70-76ba-4fe5-946b-b4969c8fdf61"
      },
      "execution_count": null,
      "outputs": [
        {
          "output_type": "stream",
          "name": "stdout",
          "text": [
            "2*1= 2\n",
            "2*2= 4\n",
            "2*3= 6\n",
            "2*4= 8\n",
            "2*5=10\n",
            "2*6=12\n",
            "2*7=14\n",
            "2*8=16\n",
            "2*9=18\n"
          ]
        }
      ]
    },
    {
      "cell_type": "code",
      "source": [
        "i,j=0,0\n",
        "for i in range(2,10,1):\n",
        "  for j in range(1,10,1):\n",
        "    print(\"%d*%d=%2d\"%(i,j,i*j))\n",
        "  print(\"\")"
      ],
      "metadata": {
        "colab": {
          "base_uri": "https://localhost:8080/"
        },
        "id": "WBJJ7dHvGiic",
        "outputId": "85be1d7c-3741-41bb-cce9-c528b539f338"
      },
      "execution_count": null,
      "outputs": [
        {
          "output_type": "stream",
          "name": "stdout",
          "text": [
            "2*1= 2\n",
            "2*2= 4\n",
            "2*3= 6\n",
            "2*4= 8\n",
            "2*5=10\n",
            "2*6=12\n",
            "2*7=14\n",
            "2*8=16\n",
            "2*9=18\n",
            "\n",
            "3*1= 3\n",
            "3*2= 6\n",
            "3*3= 9\n",
            "3*4=12\n",
            "3*5=15\n",
            "3*6=18\n",
            "3*7=21\n",
            "3*8=24\n",
            "3*9=27\n",
            "\n",
            "4*1= 4\n",
            "4*2= 8\n",
            "4*3=12\n",
            "4*4=16\n",
            "4*5=20\n",
            "4*6=24\n",
            "4*7=28\n",
            "4*8=32\n",
            "4*9=36\n",
            "\n",
            "5*1= 5\n",
            "5*2=10\n",
            "5*3=15\n",
            "5*4=20\n",
            "5*5=25\n",
            "5*6=30\n",
            "5*7=35\n",
            "5*8=40\n",
            "5*9=45\n",
            "\n",
            "6*1= 6\n",
            "6*2=12\n",
            "6*3=18\n",
            "6*4=24\n",
            "6*5=30\n",
            "6*6=36\n",
            "6*7=42\n",
            "6*8=48\n",
            "6*9=54\n",
            "\n",
            "7*1= 7\n",
            "7*2=14\n",
            "7*3=21\n",
            "7*4=28\n",
            "7*5=35\n",
            "7*6=42\n",
            "7*7=49\n",
            "7*8=56\n",
            "7*9=63\n",
            "\n",
            "8*1= 8\n",
            "8*2=16\n",
            "8*3=24\n",
            "8*4=32\n",
            "8*5=40\n",
            "8*6=48\n",
            "8*7=56\n",
            "8*8=64\n",
            "8*9=72\n",
            "\n",
            "9*1= 9\n",
            "9*2=18\n",
            "9*3=27\n",
            "9*4=36\n",
            "9*5=45\n",
            "9*6=54\n",
            "9*7=63\n",
            "9*8=72\n",
            "9*9=81\n",
            "\n"
          ]
        }
      ]
    },
    {
      "cell_type": "markdown",
      "source": [
        "###Quiz3 구구단을 만들고 2,3,4,5 \n",
        "\n",
        "줄바꿔서 6,7,8,9을 출력하시오."
      ],
      "metadata": {
        "id": "2or2s9HRHUw4"
      }
    },
    {
      "cell_type": "code",
      "source": [
        "for i in range(1,10):\n",
        "  for j in range(2,6):\n",
        "    print(\"%d x %d = %2d\" % (j,i,i*j), end=\"\\t\")\n",
        "  print(\"\")\n",
        "print(\"\\n\")\n",
        "a,b=0,0\n",
        "for a in range(1,10):\n",
        "  for b in range(6,10):\n",
        "    print(\"%d x %d = %2d\" % (b,a,a*b), end=\"\\t\")\n",
        "  print(\"\")"
      ],
      "metadata": {
        "colab": {
          "base_uri": "https://localhost:8080/"
        },
        "id": "ETjenkEJMf5g",
        "outputId": "bdd1ca27-5fc6-450e-95c3-9e1075736eb9"
      },
      "execution_count": null,
      "outputs": [
        {
          "output_type": "stream",
          "name": "stdout",
          "text": [
            "2 x 1 =  2\t3 x 1 =  3\t4 x 1 =  4\t5 x 1 =  5\t\n",
            "2 x 2 =  4\t3 x 2 =  6\t4 x 2 =  8\t5 x 2 = 10\t\n",
            "2 x 3 =  6\t3 x 3 =  9\t4 x 3 = 12\t5 x 3 = 15\t\n",
            "2 x 4 =  8\t3 x 4 = 12\t4 x 4 = 16\t5 x 4 = 20\t\n",
            "2 x 5 = 10\t3 x 5 = 15\t4 x 5 = 20\t5 x 5 = 25\t\n",
            "2 x 6 = 12\t3 x 6 = 18\t4 x 6 = 24\t5 x 6 = 30\t\n",
            "2 x 7 = 14\t3 x 7 = 21\t4 x 7 = 28\t5 x 7 = 35\t\n",
            "2 x 8 = 16\t3 x 8 = 24\t4 x 8 = 32\t5 x 8 = 40\t\n",
            "2 x 9 = 18\t3 x 9 = 27\t4 x 9 = 36\t5 x 9 = 45\t\n",
            "\n",
            "\n",
            "6 x 1 =  6\t7 x 1 =  7\t8 x 1 =  8\t9 x 1 =  9\t\n",
            "6 x 2 = 12\t7 x 2 = 14\t8 x 2 = 16\t9 x 2 = 18\t\n",
            "6 x 3 = 18\t7 x 3 = 21\t8 x 3 = 24\t9 x 3 = 27\t\n",
            "6 x 4 = 24\t7 x 4 = 28\t8 x 4 = 32\t9 x 4 = 36\t\n",
            "6 x 5 = 30\t7 x 5 = 35\t8 x 5 = 40\t9 x 5 = 45\t\n",
            "6 x 6 = 36\t7 x 6 = 42\t8 x 6 = 48\t9 x 6 = 54\t\n",
            "6 x 7 = 42\t7 x 7 = 49\t8 x 7 = 56\t9 x 7 = 63\t\n",
            "6 x 8 = 48\t7 x 8 = 56\t8 x 8 = 64\t9 x 8 = 72\t\n",
            "6 x 9 = 54\t7 x 9 = 63\t8 x 9 = 72\t9 x 9 = 81\t\n"
          ]
        }
      ]
    },
    {
      "cell_type": "markdown",
      "source": [
        "#CH.자료형\n",
        "\n",
        "## 1. 리스트 인텍스,슬라이싱"
      ],
      "metadata": {
        "id": "e2VTHDD6h52Z"
      }
    },
    {
      "cell_type": "code",
      "source": [
        "a = [1,2,3,4,5,6,7,8,9]\n",
        "print(a)\n",
        "print(a[0])\n"
      ],
      "metadata": {
        "colab": {
          "base_uri": "https://localhost:8080/"
        },
        "id": "fvnQlCl2iDbA",
        "outputId": "173fc0fa-e302-473a-e9ec-b9d9896ac3c6"
      },
      "execution_count": null,
      "outputs": [
        {
          "output_type": "stream",
          "name": "stdout",
          "text": [
            "[1, 2, 3, 4, 5, 6, 7, 8, 9]\n",
            "1\n",
            "9\n"
          ]
        }
      ]
    },
    {
      "cell_type": "code",
      "source": [
        "a = [1,2,3,4,5,6,7,8,9]\n",
        "print(a[-1])\n",
        "print(a[-2])\n"
      ],
      "metadata": {
        "colab": {
          "base_uri": "https://localhost:8080/"
        },
        "id": "CUgdp4tAj-5B",
        "outputId": "ec2ab97b-d169-4a18-ced4-1ac4149ed561"
      },
      "execution_count": null,
      "outputs": [
        {
          "output_type": "stream",
          "name": "stdout",
          "text": [
            "9\n",
            "8\n"
          ]
        }
      ]
    },
    {
      "cell_type": "code",
      "source": [
        "a = [1,2,3,4,5,6,7,8,9]\n",
        "print(a[1:9:2])\n",
        "print(a[0:9:2])"
      ],
      "metadata": {
        "colab": {
          "base_uri": "https://localhost:8080/"
        },
        "id": "yji670ZLkFfQ",
        "outputId": "98a79603-f171-45cd-ce6c-7561aad0d584"
      },
      "execution_count": null,
      "outputs": [
        {
          "output_type": "stream",
          "name": "stdout",
          "text": [
            "[2, 4, 6, 8]\n",
            "[1, 3, 5, 7, 9]\n"
          ]
        }
      ]
    },
    {
      "cell_type": "code",
      "source": [
        "a = [1,2,3,4,5,6,7,8,9]\n",
        "print(a[:4])\n",
        "print(a[5:])"
      ],
      "metadata": {
        "colab": {
          "base_uri": "https://localhost:8080/"
        },
        "id": "XgY9wqQpkUnc",
        "outputId": "ed332bb1-27b8-40d2-fc6c-7bfa4cd0263a"
      },
      "execution_count": null,
      "outputs": [
        {
          "output_type": "stream",
          "name": "stdout",
          "text": [
            "[1, 2, 3, 4]\n",
            "[6, 7, 8, 9]\n"
          ]
        }
      ]
    },
    {
      "cell_type": "code",
      "source": [
        "a = [1,2,3,4,5,6,7,8,9]\n",
        "print(len(a))\n",
        "print(len(a)-1)"
      ],
      "metadata": {
        "colab": {
          "base_uri": "https://localhost:8080/"
        },
        "id": "cRygtaM3kzde",
        "outputId": "2a9ef8d7-a6f8-4ec3-edea-6504fa67d3d8"
      },
      "execution_count": null,
      "outputs": [
        {
          "output_type": "stream",
          "name": "stdout",
          "text": [
            "9\n",
            "8\n"
          ]
        }
      ]
    },
    {
      "cell_type": "code",
      "source": [
        "b=[1,2,3,4,5,6]\n",
        "b[0]=\"apple\"\n",
        "b[1]=99\n",
        "b[5]=[1,2,3]\n",
        "print(b)"
      ],
      "metadata": {
        "colab": {
          "base_uri": "https://localhost:8080/"
        },
        "id": "DdvcL2hulMHg",
        "outputId": "10e3cfbd-e65a-4355-b9ee-feeb0ba28e75"
      },
      "execution_count": null,
      "outputs": [
        {
          "output_type": "stream",
          "name": "stdout",
          "text": [
            "['apple', 99, 3, 4, 5, [1, 2, 3]]\n"
          ]
        }
      ]
    },
    {
      "cell_type": "markdown",
      "source": [
        "### list add"
      ],
      "metadata": {
        "id": "5B41LNLJmNWg"
      }
    },
    {
      "cell_type": "code",
      "source": [
        "a =[1,2,3]\n",
        "b =[4,5,6]\n",
        "c=a+b\n",
        "print(a+b)\n",
        "print(c)\n",
        "print(c*3)"
      ],
      "metadata": {
        "colab": {
          "base_uri": "https://localhost:8080/"
        },
        "id": "2GibK4ebmQGB",
        "outputId": "7b5ce0c2-b9e2-47e2-fbe4-c799ca4d9021"
      },
      "execution_count": null,
      "outputs": [
        {
          "output_type": "stream",
          "name": "stdout",
          "text": [
            "[1, 2, 3, 4, 5, 6]\n",
            "[1, 2, 3, 4, 5, 6]\n",
            "[1, 2, 3, 4, 5, 6, 1, 2, 3, 4, 5, 6, 1, 2, 3, 4, 5, 6]\n"
          ]
        }
      ]
    },
    {
      "cell_type": "markdown",
      "source": [
        "### 함수 이용"
      ],
      "metadata": {
        "id": "PltrlWI9mtQT"
      }
    },
    {
      "cell_type": "code",
      "source": [
        "k = [\"a\",\"b\",\"c\",\"d\",\"c\"]\n",
        "k.remove(\"c\")#해당 요소값 삭제\n",
        "print(k)\n",
        "k.append(\"f\")#맨뒤에 추가\n",
        "print(k)\n"
      ],
      "metadata": {
        "colab": {
          "base_uri": "https://localhost:8080/"
        },
        "id": "OQ2IXqYpmynd",
        "outputId": "344fef9c-68d1-4226-c1ff-0e40a68a5f6b"
      },
      "execution_count": null,
      "outputs": [
        {
          "output_type": "stream",
          "name": "stdout",
          "text": [
            "['a', 'b', 'd', 'c']\n",
            "['a', 'b', 'd', 'c', 'f']\n"
          ]
        }
      ]
    },
    {
      "cell_type": "code",
      "source": [
        "k = [1,2,3,4,5]\n",
        "k.remove(3)#해당 요소값 삭제\n",
        "print(k)\n",
        "k.append(6)#맨뒤에 추가\n",
        "print(k)\n"
      ],
      "metadata": {
        "colab": {
          "base_uri": "https://localhost:8080/"
        },
        "id": "742XdDFrnpuc",
        "outputId": "b925bc83-dced-4c14-c9fb-d3bb3d51fc7b"
      },
      "execution_count": null,
      "outputs": [
        {
          "output_type": "stream",
          "name": "stdout",
          "text": [
            "[1, 2, 4, 5]\n",
            "[1, 2, 4, 5, 6]\n"
          ]
        }
      ]
    },
    {
      "cell_type": "code",
      "source": [
        "j= \"God is love!\"\n",
        "print(j[:3])\n",
        "print(j[4:6])\n",
        "print(j[7:])"
      ],
      "metadata": {
        "colab": {
          "base_uri": "https://localhost:8080/"
        },
        "id": "xCneiSTBn437",
        "outputId": "121f948b-8b3b-41e8-bb3c-5b883b863622"
      },
      "execution_count": null,
      "outputs": [
        {
          "output_type": "stream",
          "name": "stdout",
          "text": [
            "God\n",
            "is\n",
            "love!\n"
          ]
        }
      ]
    },
    {
      "cell_type": "code",
      "source": [
        "j= \" God is love! \"\n",
        "print(j.upper())#대문자\n",
        "print(j.lower())#소문자\n",
        "print(j.strip())#공백 제거"
      ],
      "metadata": {
        "colab": {
          "base_uri": "https://localhost:8080/"
        },
        "id": "7GIvO8k8ohsF",
        "outputId": "16ea201f-8d97-4056-b492-0b3d207f14c6"
      },
      "execution_count": null,
      "outputs": [
        {
          "output_type": "stream",
          "name": "stdout",
          "text": [
            " GOD IS LOVE! \n",
            " god is love! \n",
            "God is love!\n"
          ]
        }
      ]
    },
    {
      "cell_type": "code",
      "source": [
        "a = \"apple,mango,banana\"\n",
        "print(a.split(\",\"))"
      ],
      "metadata": {
        "colab": {
          "base_uri": "https://localhost:8080/"
        },
        "id": "PiE8h6Ics000",
        "outputId": "6c97ec9e-f640-433e-b546-6e71ce3d3f03"
      },
      "execution_count": null,
      "outputs": [
        {
          "output_type": "stream",
          "name": "stdout",
          "text": [
            "['apple', 'mango', 'banana']\n"
          ]
        }
      ]
    },
    {
      "cell_type": "code",
      "source": [
        "a = [\"apple\",\"banana\",\"cherry\"]\n",
        "a.append(\"Orange\")#맨 뒷쪽에 추가\n",
        "print(a)"
      ],
      "metadata": {
        "colab": {
          "base_uri": "https://localhost:8080/"
        },
        "id": "NWto8lO5tHbN",
        "outputId": "5c1e0d6b-ab44-48e6-eed8-9cf42fbac04b"
      },
      "execution_count": null,
      "outputs": [
        {
          "output_type": "stream",
          "name": "stdout",
          "text": [
            "['apple', 'banana', 'cherry', 'Orange']\n"
          ]
        }
      ]
    },
    {
      "cell_type": "code",
      "source": [
        "a = [\"apple\",\"banana\",\"cherry\"]\n",
        "a.insert(1,\"Orange\")#지정한 곳에 삽입\n",
        "print(a)"
      ],
      "metadata": {
        "colab": {
          "base_uri": "https://localhost:8080/"
        },
        "id": "YJgenUJxteYG",
        "outputId": "f62d6c02-753e-4b4e-80c8-0432d936d57a"
      },
      "execution_count": null,
      "outputs": [
        {
          "output_type": "stream",
          "name": "stdout",
          "text": [
            "['apple', 'Orange', 'banana', 'cherry']\n"
          ]
        }
      ]
    },
    {
      "cell_type": "code",
      "source": [
        "a = [\"apple\",\"banana\",\"cherry\"]\n",
        "a.remove(\"banana\")#지정한 값 제거\n",
        "print(a)"
      ],
      "metadata": {
        "colab": {
          "base_uri": "https://localhost:8080/"
        },
        "id": "uuTT5-o4tz20",
        "outputId": "388f3675-a549-482e-8165-325f7337199b"
      },
      "execution_count": null,
      "outputs": [
        {
          "output_type": "stream",
          "name": "stdout",
          "text": [
            "['apple', 'cherry']\n"
          ]
        }
      ]
    },
    {
      "cell_type": "code",
      "source": [
        "a = [\"apple\",\"banana\",\"cherry\"]\n",
        "a.pop()#맨뒤 지움\n",
        "print(a)\n",
        "a.pop(1)\n",
        "print(a)"
      ],
      "metadata": {
        "colab": {
          "base_uri": "https://localhost:8080/"
        },
        "id": "V5kvA9OmuQP5",
        "outputId": "a9fb9995-2c06-4232-9c88-49db6a4790fc"
      },
      "execution_count": null,
      "outputs": [
        {
          "output_type": "stream",
          "name": "stdout",
          "text": [
            "['apple', 'banana']\n",
            "['apple']\n"
          ]
        }
      ]
    },
    {
      "cell_type": "code",
      "source": [
        "fruit=[\"사과\",\"배\",\"오렌지\"]\n",
        "for i in fruit:\n",
        "  print(i)"
      ],
      "metadata": {
        "colab": {
          "base_uri": "https://localhost:8080/"
        },
        "id": "3wlQEXV6u_LY",
        "outputId": "4e60bd45-f08a-4e8f-90cc-b16831dd76a5"
      },
      "execution_count": null,
      "outputs": [
        {
          "output_type": "stream",
          "name": "stdout",
          "text": [
            "사과\n",
            "배\n",
            "오렌지\n"
          ]
        }
      ]
    },
    {
      "cell_type": "code",
      "source": [
        "fruit = [\"감\",\"빔\",\"대추\"]\n",
        "for i in range(len(fruit)):\n",
        "  print(fruit)"
      ],
      "metadata": {
        "colab": {
          "base_uri": "https://localhost:8080/"
        },
        "id": "mY3U-DkSvRxZ",
        "outputId": "00000cb4-bcfa-47e2-bba8-77b8bae95212"
      },
      "execution_count": null,
      "outputs": [
        {
          "output_type": "stream",
          "name": "stdout",
          "text": [
            "['감', '빔', '대추']\n",
            "['감', '빔', '대추']\n",
            "['감', '빔', '대추']\n"
          ]
        }
      ]
    },
    {
      "cell_type": "markdown",
      "source": [
        "### SORT "
      ],
      "metadata": {
        "id": "LzERt4fzvvnS"
      }
    },
    {
      "cell_type": "code",
      "source": [
        "a = [7,5,3,8,2,0,1,4,6,9,]\n",
        "a.sort()#정렬\n",
        "print(a)"
      ],
      "metadata": {
        "colab": {
          "base_uri": "https://localhost:8080/"
        },
        "id": "19Uu9jXovyIB",
        "outputId": "bd747c5e-1ca2-4971-fe2c-b2c31355abf9"
      },
      "execution_count": null,
      "outputs": [
        {
          "output_type": "stream",
          "name": "stdout",
          "text": [
            "[0, 1, 2, 3, 4, 5, 6, 7, 8, 9]\n"
          ]
        }
      ]
    },
    {
      "cell_type": "code",
      "source": [
        "a = [7,5,3,8,2,0,1,4,6,9]\n",
        "a.sort(reverse= True) #반대 정렬\n",
        "print(a)\n",
        "a.sort()\n",
        "print(a)"
      ],
      "metadata": {
        "colab": {
          "base_uri": "https://localhost:8080/"
        },
        "id": "YKQQuG3MwJiw",
        "outputId": "93fc0e46-5b0c-48aa-e3b8-52af5d6e1f1b"
      },
      "execution_count": null,
      "outputs": [
        {
          "output_type": "stream",
          "name": "stdout",
          "text": [
            "[9, 8, 7, 6, 5, 4, 3, 2, 1, 0]\n",
            "[0, 1, 2, 3, 4, 5, 6, 7, 8, 9]\n"
          ]
        }
      ]
    },
    {
      "cell_type": "code",
      "source": [
        "fruit = [\"Kiwi\",\"apple\",\"ORange\",\"banana\"]\n",
        "fruit.sort()# 대소문자 구분\n",
        "print(fruit)\n",
        "fruit.sort(key=str.lower)#대소문자 구분없이\n",
        "print(fruit)\n",
        "fruit.reverse()\n",
        "print(fruit)"
      ],
      "metadata": {
        "colab": {
          "base_uri": "https://localhost:8080/"
        },
        "id": "Zr6kU38iwlys",
        "outputId": "2ff8644b-6ba4-43c5-9cb2-d1d8de8803ba"
      },
      "execution_count": null,
      "outputs": [
        {
          "output_type": "stream",
          "name": "stdout",
          "text": [
            "['Kiwi', 'ORange', 'apple', 'banana']\n",
            "['apple', 'banana', 'Kiwi', 'ORange']\n",
            "['ORange', 'Kiwi', 'banana', 'apple']\n"
          ]
        }
      ]
    },
    {
      "cell_type": "code",
      "source": [
        "#List 복사\n",
        "fruit = [\"Kiwi\",\"apple\",\"ORange\",\"banana\"]\n",
        "myList = fruit.copy()#복사방법1\n",
        "print(myList)\n",
        "cyList = list(fruit)#복사방법2\n",
        "print(cyList)"
      ],
      "metadata": {
        "colab": {
          "base_uri": "https://localhost:8080/"
        },
        "id": "k0kUU-1fzW9L",
        "outputId": "efe276e5-641e-49c6-f3b9-4e7c51db5808"
      },
      "execution_count": null,
      "outputs": [
        {
          "output_type": "stream",
          "name": "stdout",
          "text": [
            "['Kiwi', 'apple', 'ORange', 'banana']\n",
            "['Kiwi', 'apple', 'ORange', 'banana']\n"
          ]
        }
      ]
    },
    {
      "cell_type": "markdown",
      "source": [
        "## 2.Tuple 튜플"
      ],
      "metadata": {
        "id": "orcj289Xz3pv"
      }
    },
    {
      "cell_type": "code",
      "source": [
        "l = [1,2,3]\n",
        "t = (5,6,7)\n",
        "print(type(l))\n",
        "print(type(t))"
      ],
      "metadata": {
        "colab": {
          "base_uri": "https://localhost:8080/"
        },
        "id": "SgGWuUdG1CxB",
        "outputId": "eedb13f8-694e-4123-97f0-cbcde9562efc"
      },
      "execution_count": null,
      "outputs": [
        {
          "output_type": "stream",
          "name": "stdout",
          "text": [
            "<class 'list'>\n",
            "<class 'tuple'>\n"
          ]
        }
      ]
    },
    {
      "cell_type": "code",
      "source": [
        "l = [1,2,3]\n",
        "t = (5,6,7)\n",
        "l[0]=4\n",
        "print(l)\n",
        "#t[0]=8 //튜플은 변경 불가\n",
        "print(t)"
      ],
      "metadata": {
        "colab": {
          "base_uri": "https://localhost:8080/"
        },
        "id": "RycJlZxH1e5O",
        "outputId": "0f3ab15b-68d4-45e4-844a-c56782bb29bb"
      },
      "execution_count": null,
      "outputs": [
        {
          "output_type": "stream",
          "name": "stdout",
          "text": [
            "[4, 2, 3]\n",
            "(5, 6, 7)\n"
          ]
        }
      ]
    },
    {
      "cell_type": "code",
      "source": [
        "f = (\"apple\",\"banana\",\"cherry\")\n",
        "print(len(f))"
      ],
      "metadata": {
        "colab": {
          "base_uri": "https://localhost:8080/"
        },
        "id": "RgLxMv2f11FJ",
        "outputId": "5869fcb3-ffea-4d8c-ce0d-40ddf9ff0d7e"
      },
      "execution_count": null,
      "outputs": [
        {
          "output_type": "stream",
          "name": "stdout",
          "text": [
            "3\n"
          ]
        }
      ]
    },
    {
      "cell_type": "code",
      "source": [
        "t = (\"kiwi\")\n",
        "print(t)\n",
        "print(type(t))"
      ],
      "metadata": {
        "colab": {
          "base_uri": "https://localhost:8080/"
        },
        "id": "mo3eBqbz2FWa",
        "outputId": "0e0f8e85-ad47-44ef-a42f-8c353292f4c8"
      },
      "execution_count": null,
      "outputs": [
        {
          "output_type": "stream",
          "name": "stdout",
          "text": [
            "kiwi\n",
            "<class 'str'>\n"
          ]
        }
      ]
    },
    {
      "cell_type": "code",
      "source": [
        "t = (\"kiwi\",)#튜플로 인식하기 위해 \",\"필요(1개 일때)\n",
        "print(t)\n",
        "print(type(t))"
      ],
      "metadata": {
        "colab": {
          "base_uri": "https://localhost:8080/"
        },
        "id": "4k-6Rcqe2bC5",
        "outputId": "d6799f7f-2d87-4fc3-f3d0-124029e1c5ff"
      },
      "execution_count": null,
      "outputs": [
        {
          "output_type": "stream",
          "name": "stdout",
          "text": [
            "('kiwi',)\n",
            "<class 'tuple'>\n"
          ]
        }
      ]
    },
    {
      "cell_type": "code",
      "source": [
        "f = (\"banana\",\"apple\",\"kiwi\",\"cherry\",\"Orange\")\n",
        "print(f[:4])\n",
        "print(f[3:])"
      ],
      "metadata": {
        "colab": {
          "base_uri": "https://localhost:8080/"
        },
        "id": "K2kKy9yO2fpw",
        "outputId": "8dc514b5-ee60-4b30-f295-0c381e77dddc"
      },
      "execution_count": null,
      "outputs": [
        {
          "output_type": "stream",
          "name": "stdout",
          "text": [
            "('banana', 'apple', 'kiwi', 'cherry')\n",
            "('cherry', 'Orange')\n"
          ]
        }
      ]
    },
    {
      "cell_type": "code",
      "source": [
        "f = (\"banana\",\"apple\",\"kiwi\",\"cherry\",\"Orange\")\n",
        "if \"apple\" in f:\n",
        "  print(\"Yes\")\n",
        "else:\n",
        "  print(\"No\")"
      ],
      "metadata": {
        "colab": {
          "base_uri": "https://localhost:8080/"
        },
        "id": "GTS-gq9e3Xdm",
        "outputId": "912a4d9a-a8c3-41f8-d7de-f474d398fcd8"
      },
      "execution_count": null,
      "outputs": [
        {
          "output_type": "stream",
          "name": "stdout",
          "text": [
            "Yes\n"
          ]
        }
      ]
    },
    {
      "cell_type": "markdown",
      "source": [
        "### Tuple <-> List"
      ],
      "metadata": {
        "id": "xMbIKor-31Xr"
      }
    },
    {
      "cell_type": "code",
      "source": [
        "#튜플에 추가하는 방법\n",
        "t = (\"apple\",\"banana\",\"cherry\")\n",
        "y = list(t) #튜플을 리스트로 변환\n",
        "print(type(y)) \n",
        "y.append(\"Orange\")\n",
        "t = tuple(y) #리스트를 튜플로 변환\n",
        "print(t)\n"
      ],
      "metadata": {
        "colab": {
          "base_uri": "https://localhost:8080/"
        },
        "id": "3yJqfCwQ37RK",
        "outputId": "0bc6b099-17aa-48b4-abf0-619e5b772c02"
      },
      "execution_count": null,
      "outputs": [
        {
          "output_type": "stream",
          "name": "stdout",
          "text": [
            "<class 'list'>\n",
            "('apple', 'banana', 'cherry', 'Orange')\n",
            "<class 'tuple'>\n"
          ]
        }
      ]
    },
    {
      "cell_type": "code",
      "source": [
        "#List -> Tuple\n",
        "company = [\"LG\",\"SK\",\"Apple\"]\n",
        "t = tuple(company)\n",
        "print(company)#리스트[]\n",
        "print(t)#튜플()"
      ],
      "metadata": {
        "colab": {
          "base_uri": "https://localhost:8080/"
        },
        "id": "WikTOpEo5BnE",
        "outputId": "946dea60-668a-4cde-bad8-fb130a841265"
      },
      "execution_count": null,
      "outputs": [
        {
          "output_type": "stream",
          "name": "stdout",
          "text": [
            "['LG', 'SK', 'Apple']\n",
            "('LG', 'SK', 'Apple')\n"
          ]
        }
      ]
    },
    {
      "cell_type": "code",
      "source": [
        "c = (\"LG\",\"SK\",\"Apple\")\n",
        "d = (\"Samsung\",)\n",
        "c += d # c = c + d\n",
        "print(c) "
      ],
      "metadata": {
        "colab": {
          "base_uri": "https://localhost:8080/"
        },
        "id": "BnB7Z79W6JCJ",
        "outputId": "24af2068-8be9-48c2-a736-c5e534a65b3e"
      },
      "execution_count": null,
      "outputs": [
        {
          "output_type": "stream",
          "name": "stdout",
          "text": [
            "('LG', 'SK', 'Apple', 'Samsung')\n"
          ]
        }
      ]
    },
    {
      "cell_type": "code",
      "source": [
        "t = (\"감\",\"밤\",\"대추\")\n",
        "l= list(t)\n",
        "l.remove(\"대추\")\n",
        "t = tuple(l)\n",
        "print(t) "
      ],
      "metadata": {
        "colab": {
          "base_uri": "https://localhost:8080/"
        },
        "id": "G1Pnz3eq6nAz",
        "outputId": "a175e0f5-9349-41ce-dc32-7ba450fb2467"
      },
      "execution_count": null,
      "outputs": [
        {
          "output_type": "stream",
          "name": "stdout",
          "text": [
            "('감', '밤')\n"
          ]
        }
      ]
    },
    {
      "cell_type": "markdown",
      "source": [
        "## 3.Dict 사전자료형\n",
        "\n"
      ],
      "metadata": {
        "id": "YX-b-ywaBoXB"
      }
    },
    {
      "cell_type": "code",
      "source": [
        "d = {\n",
        "      \"a\":1,\n",
        "      \"b\":2,\n",
        "      \"c\":3,\n",
        "}\n",
        "print(d)\n",
        "print(type(d))"
      ],
      "metadata": {
        "colab": {
          "base_uri": "https://localhost:8080/"
        },
        "id": "RFQ8RLD_B-bU",
        "outputId": "2697ec01-73a7-40dd-cb16-1441d17a5a1e"
      },
      "execution_count": null,
      "outputs": [
        {
          "output_type": "stream",
          "name": "stdout",
          "text": [
            "{'a': 1, 'b': 2, 'c': 3}\n",
            "<class 'dict'>\n"
          ]
        }
      ]
    },
    {
      "cell_type": "code",
      "source": [
        "d = {\n",
        "      \"a\":1,\n",
        "      \"b\":2,\n",
        "      \"c\":3,\n",
        "}\n",
        "print(d.keys())\n",
        "print(d.values())\n",
        "print(d.items())"
      ],
      "metadata": {
        "colab": {
          "base_uri": "https://localhost:8080/"
        },
        "id": "usC4BgDpCIER",
        "outputId": "a8acf303-bbff-4d83-d24e-fe9166ffc1fd"
      },
      "execution_count": null,
      "outputs": [
        {
          "output_type": "stream",
          "name": "stdout",
          "text": [
            "dict_keys(['a', 'b', 'c'])\n",
            "dict_values([1, 2, 3])\n",
            "dict_items([('a', 1), ('b', 2), ('c', 3)])\n"
          ]
        }
      ]
    },
    {
      "cell_type": "code",
      "source": [
        "car = {\n",
        "    \"maker\" : \"Hyundai\",\n",
        "    \"model\" : \"Pony2\",\n",
        "    \"year\"  : 1994\n",
        "}\n",
        "print(car)\n",
        "print(len(car))\n",
        "car[\"year\"] = 2000\n",
        "print(car)\n",
        "car[\"color\"] = \"Bule\"\n",
        "print(car)\n",
        "#print(car[\"mfg\"]) 없는 값 찍으면 에러"
      ],
      "metadata": {
        "colab": {
          "base_uri": "https://localhost:8080/"
        },
        "id": "FFL59NylCjBa",
        "outputId": "9402e9b2-7e83-4290-dbb0-7e4cafb1dca2"
      },
      "execution_count": null,
      "outputs": [
        {
          "output_type": "stream",
          "name": "stdout",
          "text": [
            "{'maker': 'Hyundai', 'model': 'Pony2', 'year': 1994}\n",
            "3\n",
            "{'maker': 'Hyundai', 'model': 'Pony2', 'year': 2000}\n",
            "{'maker': 'Hyundai', 'model': 'Pony2', 'year': 2000, 'color': 'Bule'}\n"
          ]
        }
      ]
    },
    {
      "cell_type": "code",
      "source": [
        "car = {\n",
        "    \"maker\" : \"BMW\",\n",
        "    \"model\" : \"740Li\",\n",
        "    \"year\"  : 2023\n",
        "}\n",
        "car.pop(\"model\")# 해당 키값을 삭제\n",
        "print(car)"
      ],
      "metadata": {
        "colab": {
          "base_uri": "https://localhost:8080/"
        },
        "id": "yKfY7XtAEXla",
        "outputId": "5a0228bc-a26a-48f2-98ee-c21705404c56"
      },
      "execution_count": null,
      "outputs": [
        {
          "output_type": "stream",
          "name": "stdout",
          "text": [
            "{'maker': 'BMW', 'year': 2023}\n"
          ]
        }
      ]
    },
    {
      "cell_type": "code",
      "source": [
        "car = {\n",
        "    \"maker\" : \"BMW\",\n",
        "    \"model\" : \"GT\",\n",
        "    \"year\"  : 2023\n",
        "}\n",
        "car.popitem()# 맨뒤 삭제\n",
        "print(car)"
      ],
      "metadata": {
        "colab": {
          "base_uri": "https://localhost:8080/"
        },
        "id": "hADSQm_mEtqt",
        "outputId": "b6a10bf7-730d-474c-8e79-61f1801e5cfb"
      },
      "execution_count": null,
      "outputs": [
        {
          "output_type": "stream",
          "name": "stdout",
          "text": [
            "{'maker': 'BMW', 'model': 'GT'}\n"
          ]
        }
      ]
    },
    {
      "cell_type": "code",
      "source": [
        "car = {\n",
        "    \"maker\" : \"BMW\",\n",
        "    \"model\" : \"GT\",\n",
        "    \"year\"  : 2023\n",
        "}\n",
        "car.clear() # 비움\n",
        "print(car)\n",
        "car[\"maker\"] = \"KIA\"\n",
        "print(car)"
      ],
      "metadata": {
        "colab": {
          "base_uri": "https://localhost:8080/"
        },
        "id": "_ZGlGBTQFCG4",
        "outputId": "a8866b2d-0bae-403b-d1c5-d713a18a849e"
      },
      "execution_count": null,
      "outputs": [
        {
          "output_type": "stream",
          "name": "stdout",
          "text": [
            "{}\n",
            "{'maker': 'KIA'}\n"
          ]
        }
      ]
    },
    {
      "cell_type": "code",
      "source": [
        "car = {\n",
        "    \"maker\" : \"BMW\",\n",
        "    \"model\" : \"GT\",\n",
        "    \"year\"  : 2023\n",
        "}\n",
        "del car # 안에 있는 값뿐만아니라 방까지 삭제\n",
        "#print(car) 방까지 삭제 되었기에 출력시 오류"
      ],
      "metadata": {
        "id": "KLlSxIMDFfnR"
      },
      "execution_count": null,
      "outputs": []
    },
    {
      "cell_type": "markdown",
      "source": [
        "Loop"
      ],
      "metadata": {
        "id": "COgmzA5RF-dZ"
      }
    },
    {
      "cell_type": "code",
      "source": [
        "car = {\n",
        "    \"maker\" : \"BMW\",\n",
        "    \"model\" : \"i4\",\n",
        "    \"year\"  : 2023\n",
        "}\n",
        "for x in car:\n",
        "  print(car[x])"
      ],
      "metadata": {
        "colab": {
          "base_uri": "https://localhost:8080/"
        },
        "id": "vIknzSn-GBMS",
        "outputId": "3c7c8d7d-5e2c-4462-d1ce-94d26ad8c237"
      },
      "execution_count": null,
      "outputs": [
        {
          "output_type": "stream",
          "name": "stdout",
          "text": [
            "BMW\n",
            "i4\n",
            "2023\n"
          ]
        }
      ]
    },
    {
      "cell_type": "code",
      "source": [
        "car = {\n",
        "    \"maker\" : \"BMW\",\n",
        "    \"model\" : \"GT\",\n",
        "    \"year\"  : 2023\n",
        "}\n",
        "for x in car.keys():#키값 만\n",
        "  print(x)"
      ],
      "metadata": {
        "colab": {
          "base_uri": "https://localhost:8080/"
        },
        "id": "UjSvx8GJGRDn",
        "outputId": "92096469-ce49-4bd8-a4a6-99b1ba8f443c"
      },
      "execution_count": null,
      "outputs": [
        {
          "output_type": "stream",
          "name": "stdout",
          "text": [
            "maker\n",
            "model\n",
            "year\n"
          ]
        }
      ]
    },
    {
      "cell_type": "code",
      "source": [
        "car = {\n",
        "    \"maker\" : \"BMW\",\n",
        "    \"model\" : \"i4\",\n",
        "    \"year\"  : 2023\n",
        "}\n",
        "for x in car.values():\n",
        "  print(x)"
      ],
      "metadata": {
        "colab": {
          "base_uri": "https://localhost:8080/"
        },
        "id": "Hp7KXfauGhOa",
        "outputId": "6822a2e1-3220-4e1b-ed27-6efd9b7f36c1"
      },
      "execution_count": null,
      "outputs": [
        {
          "output_type": "stream",
          "name": "stdout",
          "text": [
            "BMW\n",
            "i4\n",
            "2023\n"
          ]
        }
      ]
    },
    {
      "cell_type": "code",
      "source": [
        "car = {\n",
        "    \"maker\" : \"BMW\",\n",
        "    \"model\" : \"i4\",\n",
        "    \"year\"  : 2023\n",
        "}\n",
        "for x,y in car.items():\n",
        "  print(x,y)"
      ],
      "metadata": {
        "colab": {
          "base_uri": "https://localhost:8080/"
        },
        "id": "3EsuIhtTGuCv",
        "outputId": "25cbc5d9-5b70-460b-8ca2-f498b56bc866"
      },
      "execution_count": null,
      "outputs": [
        {
          "output_type": "stream",
          "name": "stdout",
          "text": [
            "maker BMW\n",
            "model i4\n",
            "year 2023\n"
          ]
        }
      ]
    },
    {
      "cell_type": "code",
      "source": [
        "car = {\n",
        "    \"maker\" : \"BMW\",\n",
        "    \"model\" : \"i4\",\n",
        "    \"year\"  : 2023\n",
        "}\n",
        "myCar = car.copy()\n",
        "print(myCar)"
      ],
      "metadata": {
        "colab": {
          "base_uri": "https://localhost:8080/"
        },
        "id": "g8CDQW7gHWcQ",
        "outputId": "93f5a501-e8d6-428a-c715-d2b07799ad2b"
      },
      "execution_count": null,
      "outputs": [
        {
          "output_type": "stream",
          "name": "stdout",
          "text": [
            "{'maker': 'BMW', 'model': 'i4', 'year': 2023}\n"
          ]
        }
      ]
    },
    {
      "cell_type": "code",
      "source": [
        "food = {\n",
        "    \"brand\" : \"Lotte\",\n",
        "    \"model\" : \"Ice Cream\",\n",
        "    \"Price\" :  2000\n",
        "}\n",
        "myFood = dict(food)\n",
        "print(myFood)"
      ],
      "metadata": {
        "colab": {
          "base_uri": "https://localhost:8080/"
        },
        "id": "vByNoRLjHtVL",
        "outputId": "d5bb6e9e-c198-48d5-cc97-63b7067b5e7f"
      },
      "execution_count": null,
      "outputs": [
        {
          "output_type": "stream",
          "name": "stdout",
          "text": [
            "{'brand': 'Lotte', 'model': 'Ice Cream', 'Price': 2000}\n"
          ]
        }
      ]
    },
    {
      "cell_type": "code",
      "source": [
        "name1 = {\"name\" : \"김삿갓\", \"year\" : 1900}\n",
        "name2 = {\"name\" : \"홍길동\", \"year\" : 1800}\n",
        "name3 = {\"name\" : \"김유진\", \"year\" : 2000}\n",
        "family = {\n",
        "    \"name1\" : name1,\n",
        "    \"name2\" : name2,\n",
        "    \"name3\" : name3\n",
        "}\n",
        "print(family)"
      ],
      "metadata": {
        "colab": {
          "base_uri": "https://localhost:8080/"
        },
        "id": "Nc26UAPmIX8s",
        "outputId": "6943d6fb-8517-4305-fd19-91ebda4a09df"
      },
      "execution_count": null,
      "outputs": [
        {
          "output_type": "stream",
          "name": "stdout",
          "text": [
            "{'name1': {'name': '김삿갓', 'year': 1900}, 'name2': {'name': '홍길동', 'year': 1800}, 'name3': {'name': '김유진', 'year': 2000}}\n"
          ]
        }
      ]
    },
    {
      "cell_type": "markdown",
      "source": [
        "## Quiz\n",
        "이름과 전화번호를 입력 받아 사전\n",
        "자료형으로 저장하세요(3)명 "
      ],
      "metadata": {
        "id": "Pf6zFGwQKKVQ"
      }
    },
    {
      "cell_type": "code",
      "source": [
        "a = []\n",
        "for i in range(1, 4):\n",
        "    b = input(\"이름 : \")\n",
        "    c = input(\"전화번호 : \")\n",
        "    a.append({'이름': b, '전화번호': c})\n",
        "\n",
        "for person in a:\n",
        "    for key, value in person.items():\n",
        "        print(key, value)\n",
        "    print()\n",
        "\n",
        "\n"
      ],
      "metadata": {
        "colab": {
          "base_uri": "https://localhost:8080/"
        },
        "id": "i6YnwjnFJ0lH",
        "outputId": "8735dd15-859a-46d1-e1fb-b77c8e57f784"
      },
      "execution_count": 3,
      "outputs": [
        {
          "output_type": "stream",
          "name": "stdout",
          "text": [
            "이름 : 도수일\n",
            "전화번호 : 010 1234 5678\n",
            "이름 : 남도일\n",
            "전화번호 : 010 5678 1234\n",
            "이름 : \n",
            "전화번호 : \n",
            "이름 도수일\n",
            "전화번호 010 1234 5678\n",
            "\n",
            "이름 남도일\n",
            "전화번호 010 5678 1234\n",
            "\n",
            "이름 \n",
            "전화번호 \n",
            "\n"
          ]
        }
      ]
    },
    {
      "cell_type": "markdown",
      "source": [
        "###CH4 조건문, 반복문"
      ],
      "metadata": {
        "id": "rRXZoElopU3P"
      }
    },
    {
      "cell_type": "markdown",
      "source": [
        "##1조건문"
      ],
      "metadata": {
        "id": "dJMF2eFwsY_-"
      }
    },
    {
      "cell_type": "code",
      "source": [
        "#중첩 if문\n",
        "a= int(input(\"숫자입력: \"))\n",
        "\n",
        "if a > 50:\n",
        "  if a < 100:\n",
        "    print(\"50보다 크고 100보다 작군요.\")\n",
        "  else : \n",
        "    print(\"와~~ 100보다 크군요.\")\n",
        "else : \n",
        "   print(\"에고 50보다 작군요.\")"
      ],
      "metadata": {
        "colab": {
          "base_uri": "https://localhost:8080/"
        },
        "id": "4ghz4Z2UsnGl",
        "outputId": "7348e2b8-f533-471d-bb9a-31ce685a4cf5"
      },
      "execution_count": null,
      "outputs": [
        {
          "output_type": "stream",
          "name": "stdout",
          "text": [
            "숫자입력: 45\n",
            "에고 50보다 작군요.\n"
          ]
        }
      ]
    },
    {
      "cell_type": "code",
      "source": [
        "# 성적처리\n",
        "score = int(input(\"정수를 입력해 주세요 : \"))\n",
        "if (score > 100):\n",
        "  print(\"0~100점까지의 숫자로 입력하세요.\")\n",
        "else:\n",
        "  if(score >= 90):\n",
        "    print(\"A\", end=' ')\n",
        "  elif(score >= 80):\n",
        "    print(\"B\", end=' ')\n",
        "  elif(score >= 70):\n",
        "    print(\"C\", end=' ')\n",
        "  elif(score >= 60):\n",
        "    print(\"D\", end=' ')\n",
        "  else:\n",
        "    print(\"F\", end=' ')\n",
        "  print(\"학점, 점수: %d\" %score) "
      ],
      "metadata": {
        "colab": {
          "base_uri": "https://localhost:8080/"
        },
        "id": "63_5oeiUpTZN",
        "outputId": "0b4a2bdc-ca4c-41db-dfa6-338950c91285"
      },
      "execution_count": null,
      "outputs": [
        {
          "output_type": "stream",
          "name": "stdout",
          "text": [
            "정수를 입력해 주세요 : 80\n",
            "B 학점, 점수: 80\n"
          ]
        }
      ]
    },
    {
      "cell_type": "code",
      "source": [
        "import random\n",
        "\n",
        "numbers = []\n",
        "for num in range(0,10):\n",
        "  numbers.append(random.randrange(0,10))\n",
        "\n",
        "print(\"생성된 리스트\", numbers)\n",
        "\n",
        "for num in range(0,10):\n",
        "  if num not in numbers:\n",
        "    print(\"숫자 %d는 리스트에 없습니다.\" %num)\n",
        "  else:\n",
        "    print(\"숫자 %d는 리스트에 있습니다.\" %num)"
      ],
      "metadata": {
        "colab": {
          "base_uri": "https://localhost:8080/"
        },
        "id": "ZT6yOvEXvp5v",
        "outputId": "f7a9df44-1ab5-4f73-b29c-2d9286841364"
      },
      "execution_count": null,
      "outputs": [
        {
          "output_type": "stream",
          "name": "stdout",
          "text": [
            "생성된 리스트 [4, 9, 3, 0, 9, 0, 8, 6, 3, 0]\n",
            "숫자 0는 리스트에 있습니다.\n",
            "숫자 1는 리스트에 없습니다.\n",
            "숫자 2는 리스트에 없습니다.\n",
            "숫자 3는 리스트에 있습니다.\n",
            "숫자 4는 리스트에 있습니다.\n",
            "숫자 5는 리스트에 없습니다.\n",
            "숫자 6는 리스트에 있습니다.\n",
            "숫자 7는 리스트에 없습니다.\n",
            "숫자 8는 리스트에 있습니다.\n",
            "숫자 9는 리스트에 있습니다.\n"
          ]
        }
      ]
    },
    {
      "cell_type": "code",
      "source": [
        "#조건문 이용\n",
        "select, anwser,num1, num2,numStr = 0,0,0,0,\"\"\n",
        "select = int(input(\"1.입력한 수식 계산 2.두 수의 합 : \"))\n",
        "\n",
        "if select == 1:\n",
        "  numStr = input(\"수식을 입력하세요(1+2) : \")\n",
        "  answer = eval(numStr) #1+2\n",
        "  print(\" %s 결과는 %5.1f입니다. \"%(numStr,answer))\n",
        "elif select==2:\n",
        "  num1=int(input(\"첫번째 숫자를 입력하세요: \"))\n",
        "  num2=int(input(\"두번째 숫자를 입력하세요: \"))\n",
        "  for k in range(num1, num2+1):\n",
        "    answer = answer + k\n",
        "  print(\"%d+...+%d는 %d입니다.\" %(num1, num2, answer))\n",
        "else:\n",
        "  print(\"1또는 2만 입력해야합니다.\")"
      ],
      "metadata": {
        "colab": {
          "base_uri": "https://localhost:8080/"
        },
        "id": "i9qKXSJx4Bg_",
        "outputId": "d18d73fa-cdd9-4149-869c-5f1d7ec18a1e"
      },
      "execution_count": null,
      "outputs": [
        {
          "output_type": "stream",
          "name": "stdout",
          "text": [
            "1.입력한 수식 계산 2.두 수의 합 : 1\n",
            "수식을 입력하세요(1+2) : 3\n",
            " 3 결과는   3.0입니다. \n"
          ]
        }
      ]
    },
    {
      "cell_type": "markdown",
      "source": [
        "2 반복문 for&while"
      ],
      "metadata": {
        "id": "9qR4jnMH7JxA"
      }
    },
    {
      "cell_type": "code",
      "source": [
        "for i in range(0,3,1):\n",
        "  print(\"안녕! %d\"%i)"
      ],
      "metadata": {
        "colab": {
          "base_uri": "https://localhost:8080/"
        },
        "id": "MZI5V2Z46WKv",
        "outputId": "3cc417bf-b863-4096-bd86-10c824b5abd4"
      },
      "execution_count": null,
      "outputs": [
        {
          "output_type": "stream",
          "name": "stdout",
          "text": [
            "안녕! 0\n",
            "안녕! 1\n",
            "안녕! 2\n"
          ]
        }
      ]
    },
    {
      "cell_type": "code",
      "source": [
        "for i in [0,3,1]:\n",
        "  print(\"안녕!%d\"%i)"
      ],
      "metadata": {
        "colab": {
          "base_uri": "https://localhost:8080/"
        },
        "id": "4PAOMHwr7av7",
        "outputId": "dbc1afc9-946a-4794-bf59-0bcb4a6481da"
      },
      "execution_count": null,
      "outputs": [
        {
          "output_type": "stream",
          "name": "stdout",
          "text": [
            "안녕!0\n",
            "안녕!3\n",
            "안녕!1\n"
          ]
        }
      ]
    },
    {
      "cell_type": "code",
      "source": [
        "for i in range(0,2,1):\n",
        "  for j in range(0,2,1):\n",
        "    for k in range(0,3,1):\n",
        "      print(\"i:%d, j:%d, k:%d\" %(i,j,k))"
      ],
      "metadata": {
        "colab": {
          "base_uri": "https://localhost:8080/"
        },
        "id": "fWKLeelT7pJj",
        "outputId": "fea0f4ab-7291-4f8d-b420-c74527b4cb8a"
      },
      "execution_count": null,
      "outputs": [
        {
          "output_type": "stream",
          "name": "stdout",
          "text": [
            "i:0, j:0, k:0\n",
            "i:0, j:0, k:1\n",
            "i:0, j:0, k:2\n",
            "i:0, j:1, k:0\n",
            "i:0, j:1, k:1\n",
            "i:0, j:1, k:2\n",
            "i:1, j:0, k:0\n",
            "i:1, j:0, k:1\n",
            "i:1, j:0, k:2\n",
            "i:1, j:1, k:0\n",
            "i:1, j:1, k:1\n",
            "i:1, j:1, k:2\n"
          ]
        }
      ]
    },
    {
      "cell_type": "code",
      "source": [
        "i,j = 0,0\n",
        "for i in range(2,10,1):\n",
        "  for j in range(1,10,1):\n",
        "    print(\"%d x %d = %2d\" %(i,j,i*j), end='\\t')\n",
        "  print(\" \")\n",
        "print(\"\\n\")"
      ],
      "metadata": {
        "colab": {
          "base_uri": "https://localhost:8080/"
        },
        "id": "lqZgKFJ_8dqz",
        "outputId": "76776602-283f-43f7-f1aa-4af35369cc3a"
      },
      "execution_count": null,
      "outputs": [
        {
          "output_type": "stream",
          "name": "stdout",
          "text": [
            "2 x 1 =  2\t2 x 2 =  4\t2 x 3 =  6\t2 x 4 =  8\t2 x 5 = 10\t2 x 6 = 12\t2 x 7 = 14\t2 x 8 = 16\t2 x 9 = 18\t \n",
            "3 x 1 =  3\t3 x 2 =  6\t3 x 3 =  9\t3 x 4 = 12\t3 x 5 = 15\t3 x 6 = 18\t3 x 7 = 21\t3 x 8 = 24\t3 x 9 = 27\t \n",
            "4 x 1 =  4\t4 x 2 =  8\t4 x 3 = 12\t4 x 4 = 16\t4 x 5 = 20\t4 x 6 = 24\t4 x 7 = 28\t4 x 8 = 32\t4 x 9 = 36\t \n",
            "5 x 1 =  5\t5 x 2 = 10\t5 x 3 = 15\t5 x 4 = 20\t5 x 5 = 25\t5 x 6 = 30\t5 x 7 = 35\t5 x 8 = 40\t5 x 9 = 45\t \n",
            "6 x 1 =  6\t6 x 2 = 12\t6 x 3 = 18\t6 x 4 = 24\t6 x 5 = 30\t6 x 6 = 36\t6 x 7 = 42\t6 x 8 = 48\t6 x 9 = 54\t \n",
            "7 x 1 =  7\t7 x 2 = 14\t7 x 3 = 21\t7 x 4 = 28\t7 x 5 = 35\t7 x 6 = 42\t7 x 7 = 49\t7 x 8 = 56\t7 x 9 = 63\t \n",
            "8 x 1 =  8\t8 x 2 = 16\t8 x 3 = 24\t8 x 4 = 32\t8 x 5 = 40\t8 x 6 = 48\t8 x 7 = 56\t8 x 8 = 64\t8 x 9 = 72\t \n",
            "9 x 1 =  9\t9 x 2 = 18\t9 x 3 = 27\t9 x 4 = 36\t9 x 5 = 45\t9 x 6 = 54\t9 x 7 = 63\t9 x 8 = 72\t9 x 9 = 81\t \n",
            "\n",
            "\n"
          ]
        }
      ]
    },
    {
      "cell_type": "code",
      "source": [
        "i = 0\n",
        "while i<3:\n",
        "  print(\"%d : while문\" %i)\n",
        "  i = i+1"
      ],
      "metadata": {
        "colab": {
          "base_uri": "https://localhost:8080/"
        },
        "id": "upMY5gJX9U58",
        "outputId": "edffd90b-a2c7-4068-9cd6-641dd24ca995"
      },
      "execution_count": null,
      "outputs": [
        {
          "output_type": "stream",
          "name": "stdout",
          "text": [
            "0 : while문\n",
            "1 : while문\n",
            "2 : while문\n"
          ]
        }
      ]
    },
    {
      "cell_type": "markdown",
      "source": [
        "####Q : for,while 1부터 10까지 합계를 구하시오 "
      ],
      "metadata": {
        "id": "TGXOYX2k-YA1"
      }
    },
    {
      "cell_type": "code",
      "source": [
        "#while문\n",
        "i, h = 0,0\n",
        "i = 1\n",
        "while i<11:\n",
        "  h = h + i\n",
        "  i=i+1\n",
        "\n",
        "print(\"1부터 10까지의 합계 : %d\" %h)\n",
        "\n",
        "#for문\n",
        "i,h = 0,0\n",
        "for i in range(1,11,1):\n",
        "  h = h+i\n",
        "print(\"1부터 10까지의 합계 : %d\" %h)"
      ],
      "metadata": {
        "colab": {
          "base_uri": "https://localhost:8080/"
        },
        "id": "fyqflkLa-Ie4",
        "outputId": "6673d0a2-9ad6-4f43-810a-4335286e615c"
      },
      "execution_count": null,
      "outputs": [
        {
          "output_type": "stream",
          "name": "stdout",
          "text": [
            "1부터 10까지의 합계 : 55\n",
            "1부터 10까지의 합계 : 55\n"
          ]
        }
      ]
    },
    {
      "cell_type": "code",
      "source": [
        "while True :\n",
        "  print(\"무한 루프\",end='')\n",
        "  break"
      ],
      "metadata": {
        "colab": {
          "base_uri": "https://localhost:8080/"
        },
        "id": "n7FZZJD4BT26",
        "outputId": "709edb93-4613-4757-8910-0fcbf08ddb6a"
      },
      "execution_count": null,
      "outputs": [
        {
          "output_type": "stream",
          "name": "stdout",
          "text": [
            "무한 루프"
          ]
        }
      ]
    },
    {
      "cell_type": "code",
      "source": [
        "# break\n",
        "for i in range(1,100):\n",
        "  print(\"for문 %d번 실행\" %i)\n",
        "  break\n",
        "print(\"break 빠짐\")"
      ],
      "metadata": {
        "colab": {
          "base_uri": "https://localhost:8080/"
        },
        "id": "fC4thU2QA5uD",
        "outputId": "5c9cc3ea-cf64-4388-e3a1-ac9c51cccfe4"
      },
      "execution_count": null,
      "outputs": [
        {
          "output_type": "stream",
          "name": "stdout",
          "text": [
            "for문 1번 실행\n",
            "break 빠짐\n"
          ]
        }
      ]
    },
    {
      "cell_type": "code",
      "source": [
        "hap = 0\n",
        "a,b = 0,0\n",
        "while True:\n",
        "  a = int(input(\"덧셈 첫번째 수 입력: \"))\n",
        "  if a == 0:\n",
        "   break\n",
        "  b = int(input(\"덧셈 두번쨰 수 입력: \"))\n",
        "  hap = a + b\n",
        "  print(\"%d + %d = %d\" %(a,b,hap))\n",
        "\n",
        "print(\"break로 탈출\")"
      ],
      "metadata": {
        "colab": {
          "base_uri": "https://localhost:8080/"
        },
        "id": "4PVbTT2lByRI",
        "outputId": "09427229-b4ca-44e5-bad1-1181c8af025a"
      },
      "execution_count": null,
      "outputs": [
        {
          "output_type": "stream",
          "name": "stdout",
          "text": [
            "덧셈 첫번째 수 입력: 1\n",
            "덧셈 두번쨰 수 입력: 2\n",
            "1 + 2 = 3\n",
            "덧셈 첫번째 수 입력: 2\n",
            "덧셈 두번쨰 수 입력: 3\n",
            "2 + 3 = 5\n",
            "덧셈 첫번째 수 입력: 0\n",
            "break로 탈출\n"
          ]
        }
      ]
    },
    {
      "cell_type": "code",
      "source": [
        "# continue\n",
        "hap,i=0,0\n",
        "for i in range(1,11):\n",
        "  if i % 2 == 0:\n",
        "    print(\"i:%d\" %i)\n",
        "    continue\n",
        "  hap += i\n",
        "\n",
        "print(\"1~10 합계(2의 배수를 제외): %d\" %hap)"
      ],
      "metadata": {
        "colab": {
          "base_uri": "https://localhost:8080/"
        },
        "id": "BJTJPxYuHraw",
        "outputId": "9969385e-6282-4262-c26c-ccace44878a7"
      },
      "execution_count": null,
      "outputs": [
        {
          "output_type": "stream",
          "name": "stdout",
          "text": [
            "i:2\n",
            "i:4\n",
            "i:6\n",
            "i:8\n",
            "i:10\n",
            "1~10 합계(2의 배수를 제외): 25\n"
          ]
        }
      ]
    },
    {
      "cell_type": "code",
      "source": [
        "fruits = [\"감\",\"밤\",\"대추\"] #시험 나옴\n",
        "for x in fruits:\n",
        "  if x == \"밤\":\n",
        "    continue\n",
        "  print(x)"
      ],
      "metadata": {
        "colab": {
          "base_uri": "https://localhost:8080/"
        },
        "id": "bW7SM-tVK6i7",
        "outputId": "1c627cc6-f226-4b9f-f358-e21640364716"
      },
      "execution_count": null,
      "outputs": [
        {
          "output_type": "stream",
          "name": "stdout",
          "text": [
            "감\n",
            "대추\n"
          ]
        }
      ]
    },
    {
      "cell_type": "code",
      "source": [
        "for x in range(6):#시험나옴\n",
        "  if x == 3: break\n",
        "  print(x)\n",
        "else:\n",
        "  print(\"끝\")"
      ],
      "metadata": {
        "colab": {
          "base_uri": "https://localhost:8080/"
        },
        "id": "M4jcdyUbMQhu",
        "outputId": "08f663f8-259c-4dee-ff0c-9ac217e76bf4"
      },
      "execution_count": null,
      "outputs": [
        {
          "output_type": "stream",
          "name": "stdout",
          "text": [
            "0\n",
            "1\n",
            "2\n"
          ]
        }
      ]
    },
    {
      "cell_type": "code",
      "source": [
        "# pass 에러를 피하기 위해 실행하지 않을 때 사용\n",
        "for x in [0,1,2]:\n",
        "  pass"
      ],
      "metadata": {
        "id": "hGWPFw35NDHO"
      },
      "execution_count": null,
      "outputs": []
    },
    {
      "cell_type": "markdown",
      "source": [
        "##4.함수"
      ],
      "metadata": {
        "id": "yAvfCNDnNiYr"
      }
    },
    {
      "cell_type": "code",
      "source": [
        "# 두수를 더하는 함수\n",
        "def plus(v1,v2):\n",
        "  result = 0\n",
        "  result = v1 + v2 \n",
        "  return result\n",
        "\n",
        "hap = 0\n",
        "hap = plus(10,20)\n",
        "print(\"1+2 plus() 처리결과는 %d\" %hap)\n",
        "hap = plus(20,30)\n",
        "print(\"4+8 plus() 처리결과는 %d\" %hap)"
      ],
      "metadata": {
        "colab": {
          "base_uri": "https://localhost:8080/"
        },
        "id": "17MN27R5Ng4b",
        "outputId": "39bcedf7-9528-41e6-82e1-641e0273a522"
      },
      "execution_count": null,
      "outputs": [
        {
          "output_type": "stream",
          "name": "stdout",
          "text": [
            "10+20 plus() 처리결과는 30\n",
            "20+30 plus() 처리결과는 50\n"
          ]
        }
      ]
    },
    {
      "cell_type": "code",
      "source": [
        "\n",
        "# 계산기 코드\n",
        "def calc(v1,v2,op):\n",
        "  result = 0\n",
        "  if op == '+':\n",
        "    result = v1 + v2\n",
        "  elif op == '-':\n",
        "    result = v1 - v2\n",
        "  elif op == '*':\n",
        "    result = v1 * v2\n",
        "  elif op == '/':\n",
        "    result = v1 / v2\n",
        "  return result\n",
        "\n",
        "rst = 0\n",
        "var1,var2,opr = 0,0,\"\"\n",
        "\n",
        "opr = input(\"(+,-,*,/) 입력\")\n",
        "var1 = int(input(\"1번째 수 입력: \"))\n",
        "var2 = int(input(\"2번째 수 입력: \"))\n",
        "rst = calc(var1,var2,opr)\n",
        "print(\"계산기 %d %s %d = %d\" %(var1,opr,var2,rst))"
      ],
      "metadata": {
        "colab": {
          "base_uri": "https://localhost:8080/"
        },
        "id": "4Wop3LGpOK5z",
        "outputId": "2f77a053-949e-4474-9c4e-d2326697f3be"
      },
      "execution_count": null,
      "outputs": [
        {
          "output_type": "stream",
          "name": "stdout",
          "text": [
            "(+,-,*,/) 입력*\n",
            "1번째 수 입력: 2\n",
            "2번째 수 입력: 2\n",
            "계산기 2 * 2 = 4\n"
          ]
        }
      ]
    },
    {
      "cell_type": "markdown",
      "source": [
        "# Q: 0으로 나누려고 하면 메세지 출력 계산되지 않게, **제곱 연산자 기능 추가(숫자1,연산자,숫자2) 계산기만들기"
      ],
      "metadata": {
        "id": "gV8GGOqGRHxu"
      }
    },
    {
      "cell_type": "code",
      "source": [
        "while True: \n",
        "        num1 = float(input(\"첫 번째 숫자를 입력하세요: \"))\n",
        "        op = input(\"연산자를 입력하세요 (+, -, *, /, **): \")\n",
        "        num2 = float(input(\"두 번째 숫자를 입력하세요: \"))\n",
        "        \n",
        "        if op == \"+\":\n",
        "            result = num1 + num2\n",
        "        elif op == \"-\":\n",
        "            result = num1 - num2\n",
        "        elif op == \"*\":\n",
        "            result = num1 * num2\n",
        "        elif op == \"/\":\n",
        "            if num2 == 0:\n",
        "                print(\"0으로 나눌 수 없습니다.\")\n",
        "                continue\n",
        "            else:\n",
        "                result = num1 / num2\n",
        "        elif op == '**':\n",
        "            result = num1 ** num2\n",
        "        else:\n",
        "            print(\"잘못된 연산자입니다.\")\n",
        "            continue\n",
        "        \n",
        "        print(\"결과는 {}입니다.\".format(result))\n",
        "        \n",
        "        answer = input(\"다시 계산하시겠습니까? (y/n): \")\n",
        "        if answer == 'n':\n",
        "            break\n",
        "        elif answer == 'y':\n",
        "            continue\n",
        "        else:\n",
        "            print(\"잘못된 입력입니다. 다시 시작하세요.\")\n",
        "            break\n"
      ],
      "metadata": {
        "id": "dQESyPa-RYgn",
        "colab": {
          "base_uri": "https://localhost:8080/"
        },
        "outputId": "cbca532c-6f3f-4b6c-b8e6-7be3bc8f7d74"
      },
      "execution_count": null,
      "outputs": [
        {
          "name": "stdout",
          "output_type": "stream",
          "text": [
            "첫 번째 숫자를 입력하세요: 2\n",
            "연산자를 입력하세요 (+, -, *, /, **): **\n",
            "두 번째 숫자를 입력하세요: 3\n",
            "결과는 8.0입니다.\n",
            "다시 계산하시겠습니까? (y/n): y\n",
            "첫 번째 숫자를 입력하세요: 2\n",
            "연산자를 입력하세요 (+, -, *, /, **): /\n",
            "두 번째 숫자를 입력하세요: 0\n",
            "0으로 나눌 수 없습니다.\n",
            "첫 번째 숫자를 입력하세요: 2\n",
            "연산자를 입력하세요 (+, -, *, /, **): /\n",
            "두 번째 숫자를 입력하세요: 1\n",
            "결과는 2.0입니다.\n",
            "다시 계산하시겠습니까? (y/n): n\n"
          ]
        }
      ]
    },
    {
      "cell_type": "markdown",
      "source": [
        "# ch5 파일 처리\n",
        "\"r\"- read, \" w\"-write, \"a\"-append,\n",
        "\"x\"-create,\"t\"-text,\"b\"-binary"
      ],
      "metadata": {
        "id": "rVJwrYOjtGfE"
      }
    },
    {
      "cell_type": "code",
      "source": [
        "# file read\n",
        "from google.colab import files\n",
        "f = open(\"a.txt\",'w',)\n",
        "f.write(\"123456\")\n",
        "f.close()\n",
        "files.download('a.txt')"
      ],
      "metadata": {
        "colab": {
          "base_uri": "https://localhost:8080/",
          "height": 17
        },
        "id": "57iv310qrnA9",
        "outputId": "63480a3a-e4b4-4672-e9a6-c94f5507a54d"
      },
      "execution_count": null,
      "outputs": [
        {
          "output_type": "display_data",
          "data": {
            "text/plain": [
              "<IPython.core.display.Javascript object>"
            ],
            "application/javascript": [
              "\n",
              "    async function download(id, filename, size) {\n",
              "      if (!google.colab.kernel.accessAllowed) {\n",
              "        return;\n",
              "      }\n",
              "      const div = document.createElement('div');\n",
              "      const label = document.createElement('label');\n",
              "      label.textContent = `Downloading \"${filename}\": `;\n",
              "      div.appendChild(label);\n",
              "      const progress = document.createElement('progress');\n",
              "      progress.max = size;\n",
              "      div.appendChild(progress);\n",
              "      document.body.appendChild(div);\n",
              "\n",
              "      const buffers = [];\n",
              "      let downloaded = 0;\n",
              "\n",
              "      const channel = await google.colab.kernel.comms.open(id);\n",
              "      // Send a message to notify the kernel that we're ready.\n",
              "      channel.send({})\n",
              "\n",
              "      for await (const message of channel.messages) {\n",
              "        // Send a message to notify the kernel that we're ready.\n",
              "        channel.send({})\n",
              "        if (message.buffers) {\n",
              "          for (const buffer of message.buffers) {\n",
              "            buffers.push(buffer);\n",
              "            downloaded += buffer.byteLength;\n",
              "            progress.value = downloaded;\n",
              "          }\n",
              "        }\n",
              "      }\n",
              "      const blob = new Blob(buffers, {type: 'application/binary'});\n",
              "      const a = document.createElement('a');\n",
              "      a.href = window.URL.createObjectURL(blob);\n",
              "      a.download = filename;\n",
              "      div.appendChild(a);\n",
              "      a.click();\n",
              "      div.remove();\n",
              "    }\n",
              "  "
            ]
          },
          "metadata": {}
        },
        {
          "output_type": "display_data",
          "data": {
            "text/plain": [
              "<IPython.core.display.Javascript object>"
            ],
            "application/javascript": [
              "download(\"download_0b15fe42-89dd-4358-86e3-3a040abb577e\", \"a.txt\", 6)"
            ]
          },
          "metadata": {}
        }
      ]
    },
    {
      "cell_type": "code",
      "source": [
        "#file read\n",
        "from google.colab import files\n",
        "\n",
        "f = open(\"a.txt\",'w',)"
      ],
      "metadata": {
        "id": "RwNI2-h7uM2c"
      },
      "execution_count": null,
      "outputs": []
    },
    {
      "cell_type": "code",
      "source": [
        "heart = \"\\u2665\"\n",
        "space = ' '\n",
        "n = int(input(\"숫자입력1 : \"))\n",
        "nn = int(input(\"숫자입력2 : \"))\n",
        "for i in range(1, n+1):\n",
        "    print(nn * space * (n-i) + i * heart + nn * space * (n-i))"
      ],
      "metadata": {
        "colab": {
          "base_uri": "https://localhost:8080/"
        },
        "id": "YbB_DF9YHyq6",
        "outputId": "a76b4c48-321e-4c1a-bcdc-2d658a0c15b2"
      },
      "execution_count": 2,
      "outputs": [
        {
          "output_type": "stream",
          "name": "stdout",
          "text": [
            "숫자입력1 : 4\n",
            "숫자입력2 : 4\n",
            "            ♥            \n",
            "        ♥♥        \n",
            "    ♥♥♥    \n",
            "♥♥♥♥\n"
          ]
        }
      ]
    }
  ]
}